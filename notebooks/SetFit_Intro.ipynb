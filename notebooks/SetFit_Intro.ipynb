{
  "nbformat": 4,
  "nbformat_minor": 0,
  "metadata": {
    "colab": {
      "provenance": [],
      "gpuType": "T4",
      "authorship_tag": "ABX9TyOvYBEi40crTl/15z5DIwT5",
      "include_colab_link": true
    },
    "kernelspec": {
      "name": "python3",
      "display_name": "Python 3"
    },
    "language_info": {
      "name": "python"
    },
    "accelerator": "GPU",
    "widgets": {
      "application/vnd.jupyter.widget-state+json": {
        "d48c028b86504f58b0cf766d9030d4b5": {
          "model_module": "@jupyter-widgets/controls",
          "model_name": "HBoxModel",
          "model_module_version": "1.5.0",
          "state": {
            "_dom_classes": [],
            "_model_module": "@jupyter-widgets/controls",
            "_model_module_version": "1.5.0",
            "_model_name": "HBoxModel",
            "_view_count": null,
            "_view_module": "@jupyter-widgets/controls",
            "_view_module_version": "1.5.0",
            "_view_name": "HBoxView",
            "box_style": "",
            "children": [
              "IPY_MODEL_53a82477141941e7bcb11665095fe2ee",
              "IPY_MODEL_a464ce8a2f9c405f9e5fb1298f1735b5",
              "IPY_MODEL_833b927e3faa4fa1bc160cc5ecce1fb6"
            ],
            "layout": "IPY_MODEL_a7d542705a444877a4d1b5a5f126aa82"
          }
        },
        "53a82477141941e7bcb11665095fe2ee": {
          "model_module": "@jupyter-widgets/controls",
          "model_name": "HTMLModel",
          "model_module_version": "1.5.0",
          "state": {
            "_dom_classes": [],
            "_model_module": "@jupyter-widgets/controls",
            "_model_module_version": "1.5.0",
            "_model_name": "HTMLModel",
            "_view_count": null,
            "_view_module": "@jupyter-widgets/controls",
            "_view_module_version": "1.5.0",
            "_view_name": "HTMLView",
            "description": "",
            "description_tooltip": null,
            "layout": "IPY_MODEL_c1e215724a9446b2b7b8f33feee38d06",
            "placeholder": "​",
            "style": "IPY_MODEL_3cd8cc34d5a6485186db853f3a0aa56c",
            "value": "Map: 100%"
          }
        },
        "a464ce8a2f9c405f9e5fb1298f1735b5": {
          "model_module": "@jupyter-widgets/controls",
          "model_name": "FloatProgressModel",
          "model_module_version": "1.5.0",
          "state": {
            "_dom_classes": [],
            "_model_module": "@jupyter-widgets/controls",
            "_model_module_version": "1.5.0",
            "_model_name": "FloatProgressModel",
            "_view_count": null,
            "_view_module": "@jupyter-widgets/controls",
            "_view_module_version": "1.5.0",
            "_view_name": "ProgressView",
            "bar_style": "success",
            "description": "",
            "description_tooltip": null,
            "layout": "IPY_MODEL_0fe1ec0e42cb4ed1a97860752066692e",
            "max": 128,
            "min": 0,
            "orientation": "horizontal",
            "style": "IPY_MODEL_b1341bd4cbc74440bbbb633d6f15fb1e",
            "value": 128
          }
        },
        "833b927e3faa4fa1bc160cc5ecce1fb6": {
          "model_module": "@jupyter-widgets/controls",
          "model_name": "HTMLModel",
          "model_module_version": "1.5.0",
          "state": {
            "_dom_classes": [],
            "_model_module": "@jupyter-widgets/controls",
            "_model_module_version": "1.5.0",
            "_model_name": "HTMLModel",
            "_view_count": null,
            "_view_module": "@jupyter-widgets/controls",
            "_view_module_version": "1.5.0",
            "_view_name": "HTMLView",
            "description": "",
            "description_tooltip": null,
            "layout": "IPY_MODEL_a4dcb90735344eada83241a7d0d2777a",
            "placeholder": "​",
            "style": "IPY_MODEL_2f25413986c34b0d8caa65c96bca93aa",
            "value": " 128/128 [00:00&lt;00:00, 2879.42 examples/s]"
          }
        },
        "a7d542705a444877a4d1b5a5f126aa82": {
          "model_module": "@jupyter-widgets/base",
          "model_name": "LayoutModel",
          "model_module_version": "1.2.0",
          "state": {
            "_model_module": "@jupyter-widgets/base",
            "_model_module_version": "1.2.0",
            "_model_name": "LayoutModel",
            "_view_count": null,
            "_view_module": "@jupyter-widgets/base",
            "_view_module_version": "1.2.0",
            "_view_name": "LayoutView",
            "align_content": null,
            "align_items": null,
            "align_self": null,
            "border": null,
            "bottom": null,
            "display": null,
            "flex": null,
            "flex_flow": null,
            "grid_area": null,
            "grid_auto_columns": null,
            "grid_auto_flow": null,
            "grid_auto_rows": null,
            "grid_column": null,
            "grid_gap": null,
            "grid_row": null,
            "grid_template_areas": null,
            "grid_template_columns": null,
            "grid_template_rows": null,
            "height": null,
            "justify_content": null,
            "justify_items": null,
            "left": null,
            "margin": null,
            "max_height": null,
            "max_width": null,
            "min_height": null,
            "min_width": null,
            "object_fit": null,
            "object_position": null,
            "order": null,
            "overflow": null,
            "overflow_x": null,
            "overflow_y": null,
            "padding": null,
            "right": null,
            "top": null,
            "visibility": null,
            "width": null
          }
        },
        "c1e215724a9446b2b7b8f33feee38d06": {
          "model_module": "@jupyter-widgets/base",
          "model_name": "LayoutModel",
          "model_module_version": "1.2.0",
          "state": {
            "_model_module": "@jupyter-widgets/base",
            "_model_module_version": "1.2.0",
            "_model_name": "LayoutModel",
            "_view_count": null,
            "_view_module": "@jupyter-widgets/base",
            "_view_module_version": "1.2.0",
            "_view_name": "LayoutView",
            "align_content": null,
            "align_items": null,
            "align_self": null,
            "border": null,
            "bottom": null,
            "display": null,
            "flex": null,
            "flex_flow": null,
            "grid_area": null,
            "grid_auto_columns": null,
            "grid_auto_flow": null,
            "grid_auto_rows": null,
            "grid_column": null,
            "grid_gap": null,
            "grid_row": null,
            "grid_template_areas": null,
            "grid_template_columns": null,
            "grid_template_rows": null,
            "height": null,
            "justify_content": null,
            "justify_items": null,
            "left": null,
            "margin": null,
            "max_height": null,
            "max_width": null,
            "min_height": null,
            "min_width": null,
            "object_fit": null,
            "object_position": null,
            "order": null,
            "overflow": null,
            "overflow_x": null,
            "overflow_y": null,
            "padding": null,
            "right": null,
            "top": null,
            "visibility": null,
            "width": null
          }
        },
        "3cd8cc34d5a6485186db853f3a0aa56c": {
          "model_module": "@jupyter-widgets/controls",
          "model_name": "DescriptionStyleModel",
          "model_module_version": "1.5.0",
          "state": {
            "_model_module": "@jupyter-widgets/controls",
            "_model_module_version": "1.5.0",
            "_model_name": "DescriptionStyleModel",
            "_view_count": null,
            "_view_module": "@jupyter-widgets/base",
            "_view_module_version": "1.2.0",
            "_view_name": "StyleView",
            "description_width": ""
          }
        },
        "0fe1ec0e42cb4ed1a97860752066692e": {
          "model_module": "@jupyter-widgets/base",
          "model_name": "LayoutModel",
          "model_module_version": "1.2.0",
          "state": {
            "_model_module": "@jupyter-widgets/base",
            "_model_module_version": "1.2.0",
            "_model_name": "LayoutModel",
            "_view_count": null,
            "_view_module": "@jupyter-widgets/base",
            "_view_module_version": "1.2.0",
            "_view_name": "LayoutView",
            "align_content": null,
            "align_items": null,
            "align_self": null,
            "border": null,
            "bottom": null,
            "display": null,
            "flex": null,
            "flex_flow": null,
            "grid_area": null,
            "grid_auto_columns": null,
            "grid_auto_flow": null,
            "grid_auto_rows": null,
            "grid_column": null,
            "grid_gap": null,
            "grid_row": null,
            "grid_template_areas": null,
            "grid_template_columns": null,
            "grid_template_rows": null,
            "height": null,
            "justify_content": null,
            "justify_items": null,
            "left": null,
            "margin": null,
            "max_height": null,
            "max_width": null,
            "min_height": null,
            "min_width": null,
            "object_fit": null,
            "object_position": null,
            "order": null,
            "overflow": null,
            "overflow_x": null,
            "overflow_y": null,
            "padding": null,
            "right": null,
            "top": null,
            "visibility": null,
            "width": null
          }
        },
        "b1341bd4cbc74440bbbb633d6f15fb1e": {
          "model_module": "@jupyter-widgets/controls",
          "model_name": "ProgressStyleModel",
          "model_module_version": "1.5.0",
          "state": {
            "_model_module": "@jupyter-widgets/controls",
            "_model_module_version": "1.5.0",
            "_model_name": "ProgressStyleModel",
            "_view_count": null,
            "_view_module": "@jupyter-widgets/base",
            "_view_module_version": "1.2.0",
            "_view_name": "StyleView",
            "bar_color": null,
            "description_width": ""
          }
        },
        "a4dcb90735344eada83241a7d0d2777a": {
          "model_module": "@jupyter-widgets/base",
          "model_name": "LayoutModel",
          "model_module_version": "1.2.0",
          "state": {
            "_model_module": "@jupyter-widgets/base",
            "_model_module_version": "1.2.0",
            "_model_name": "LayoutModel",
            "_view_count": null,
            "_view_module": "@jupyter-widgets/base",
            "_view_module_version": "1.2.0",
            "_view_name": "LayoutView",
            "align_content": null,
            "align_items": null,
            "align_self": null,
            "border": null,
            "bottom": null,
            "display": null,
            "flex": null,
            "flex_flow": null,
            "grid_area": null,
            "grid_auto_columns": null,
            "grid_auto_flow": null,
            "grid_auto_rows": null,
            "grid_column": null,
            "grid_gap": null,
            "grid_row": null,
            "grid_template_areas": null,
            "grid_template_columns": null,
            "grid_template_rows": null,
            "height": null,
            "justify_content": null,
            "justify_items": null,
            "left": null,
            "margin": null,
            "max_height": null,
            "max_width": null,
            "min_height": null,
            "min_width": null,
            "object_fit": null,
            "object_position": null,
            "order": null,
            "overflow": null,
            "overflow_x": null,
            "overflow_y": null,
            "padding": null,
            "right": null,
            "top": null,
            "visibility": null,
            "width": null
          }
        },
        "2f25413986c34b0d8caa65c96bca93aa": {
          "model_module": "@jupyter-widgets/controls",
          "model_name": "DescriptionStyleModel",
          "model_module_version": "1.5.0",
          "state": {
            "_model_module": "@jupyter-widgets/controls",
            "_model_module_version": "1.5.0",
            "_model_name": "DescriptionStyleModel",
            "_view_count": null,
            "_view_module": "@jupyter-widgets/base",
            "_view_module_version": "1.2.0",
            "_view_name": "StyleView",
            "description_width": ""
          }
        }
      }
    }
  },
  "cells": [
    {
      "cell_type": "markdown",
      "metadata": {
        "id": "view-in-github",
        "colab_type": "text"
      },
      "source": [
        "<a href=\"https://colab.research.google.com/github/DJCordhose/transformers/blob/main/notebooks/SetFit_Intro.ipynb\" target=\"_parent\"><img src=\"https://colab.research.google.com/assets/colab-badge.svg\" alt=\"Open In Colab\"/></a>"
      ]
    },
    {
      "cell_type": "markdown",
      "source": [
        "# SetFit (Sentence Transformer Fine-tuning): Efficient Few-Shot Learning Without Prompts\n",
        "\n",
        "## How it works\n",
        "1. fine-tuning a pretrained Sentence Transformers (ST) on a small number of text pairs, in a contrastive Siamese manner\n",
        "1. training a classifier head on the embeddings generated from the fine-tuned ST\n",
        "\n",
        "![](https://raw.githubusercontent.com/huggingface/setfit/main/assets/setfit.png)\n",
        "\n",
        "## Detailed steps of of contrastive Siamese training for fine-tuning\n",
        "\n",
        "1. **Embedding Generation**: The input data is passed through a pretrained transformer model, like Sentence-BERT or RoBERTa, to generate embeddings. These embeddings are vector representations of the text data, capturing the semantic nuances in a high-dimensional space.\n",
        "\n",
        "1. **Contrastive Loss Calculation**: In contrastive training, the goal is to adjust the embeddings so that similar texts (texts with the same label) are closer together in the embedding space, and dissimilar texts (texts with different labels) are farther apart. Involves pairs of texts, where the model tries to minimize the distance between pairs of similar texts while ensuring that pairs of dissimilar texts are separated by at least a margin.\n",
        "\n",
        "1. **Model Training**: The model is trained by optimizing this contrastive loss across all selected texts in the dataset. During training, the parameters of the model (or a portion of the model if using fine-tuning) are adjusted to reduce the loss, thereby learning to generate embeddings that effectively group similar texts together and push dissimilar texts apart.\n",
        "\n",
        "1. **Outcome**: After this step, the model produces high-quality embeddings that are more useful for the specific classification or analysis tasks because they better represent the differences and similarities as per the task-specific data.\n",
        "\n",
        "This contrastive training step effectively leverages a small amount of labeled data to teach the model a nuanced understanding of the task at hand, setting a strong foundation for the subsequent fine-tuning steps. This makes SetFit particularly powerful in scenarios where labeled data is scarce but quality embeddings are crucial for performance.\n",
        "\n",
        "## Links\n",
        "* Intrduction: https://huggingface.co/blog/setfit\n",
        "* This code mostly taken fron: https://huggingface.co/docs/setfit/quickstart\n",
        "* Sources with technical details notebooks: https://github.com/huggingface/setfit\n",
        "  * https://github.com/huggingface/setfit/tree/main/notebooks\n",
        "* Paper [2209.11055] Efficient Few-Shot Learning Without Prompts: https://arxiv.org/abs/2209.11055\n",
        "\n",
        "\n"
      ],
      "metadata": {
        "id": "AOlHjGb73NVF"
      }
    },
    {
      "cell_type": "code",
      "execution_count": 1,
      "metadata": {
        "colab": {
          "base_uri": "https://localhost:8080/"
        },
        "id": "67m3nxFe3Hxw",
        "outputId": "1d5868f3-ea0f-446a-e1a4-652f38e5bb85"
      },
      "outputs": [
        {
          "output_type": "stream",
          "name": "stdout",
          "text": [
            "Mon May  6 09:35:54 2024       \n",
            "+---------------------------------------------------------------------------------------+\n",
            "| NVIDIA-SMI 535.104.05             Driver Version: 535.104.05   CUDA Version: 12.2     |\n",
            "|-----------------------------------------+----------------------+----------------------+\n",
            "| GPU  Name                 Persistence-M | Bus-Id        Disp.A | Volatile Uncorr. ECC |\n",
            "| Fan  Temp   Perf          Pwr:Usage/Cap |         Memory-Usage | GPU-Util  Compute M. |\n",
            "|                                         |                      |               MIG M. |\n",
            "|=========================================+======================+======================|\n",
            "|   0  Tesla T4                       Off | 00000000:00:04.0 Off |                    0 |\n",
            "| N/A   74C    P8              11W /  70W |      0MiB / 15360MiB |      0%      Default |\n",
            "|                                         |                      |                  N/A |\n",
            "+-----------------------------------------+----------------------+----------------------+\n",
            "                                                                                         \n",
            "+---------------------------------------------------------------------------------------+\n",
            "| Processes:                                                                            |\n",
            "|  GPU   GI   CI        PID   Type   Process name                            GPU Memory |\n",
            "|        ID   ID                                                             Usage      |\n",
            "|=======================================================================================|\n",
            "|  No running processes found                                                           |\n",
            "+---------------------------------------------------------------------------------------+\n"
          ]
        }
      ],
      "source": [
        "!nvidia-smi"
      ]
    },
    {
      "cell_type": "code",
      "source": [
        "!pip install -q setfit"
      ],
      "metadata": {
        "id": "ES8aXL9S3TlI"
      },
      "execution_count": 2,
      "outputs": []
    },
    {
      "cell_type": "code",
      "source": [
        "from setfit import SetFitModel\n",
        "\n",
        "# Massive Text Embedding Benchmark (MTEB) Leaderboard: https://huggingface.co/spaces/mteb/leaderboard\n",
        "\n",
        "# https://huggingface.co/BAAI/bge-small-en-v1.5\n",
        "model_id = \"BAAI/bge-small-en-v1.5\"\n",
        "# https://huggingface.co/sentence-transformers/paraphrase-mpnet-base-v2\n",
        "# model_id = \"sentence-transformers/paraphrase-mpnet-base-v2\"\n",
        "\n",
        "model = SetFitModel.from_pretrained(model_id)"
      ],
      "metadata": {
        "colab": {
          "base_uri": "https://localhost:8080/"
        },
        "id": "HTMAwt6D3YE8",
        "outputId": "6d9eae1f-428c-42fc-8185-3a803801faa0"
      },
      "execution_count": 3,
      "outputs": [
        {
          "output_type": "stream",
          "name": "stderr",
          "text": [
            "/usr/local/lib/python3.10/dist-packages/huggingface_hub/utils/_token.py:89: UserWarning: \n",
            "The secret `HF_TOKEN` does not exist in your Colab secrets.\n",
            "To authenticate with the Hugging Face Hub, create a token in your settings tab (https://huggingface.co/settings/tokens), set it as secret in your Google Colab and restart your session.\n",
            "You will be able to reuse this secret in all of your notebooks.\n",
            "Please note that authentication is recommended but still optional to access public models or datasets.\n",
            "  warnings.warn(\n",
            "/usr/local/lib/python3.10/dist-packages/huggingface_hub/file_download.py:1132: FutureWarning: `resume_download` is deprecated and will be removed in version 1.0.0. Downloads always resume when possible. If you want to force a new download, use `force_download=True`.\n",
            "  warnings.warn(\n",
            "model_head.pkl not found on HuggingFace Hub, initialising classification head with random weights. You should TRAIN this model on a downstream task to use it for predictions and inference.\n"
          ]
        }
      ]
    },
    {
      "cell_type": "code",
      "source": [
        "model.labels = [\"negative\", \"positive\"]"
      ],
      "metadata": {
        "colab": {
          "base_uri": "https://localhost:8080/"
        },
        "id": "S77WFPZJ5TgW",
        "outputId": "923a1d25-2839-4d34-a701-66a3d7f6f6af"
      },
      "execution_count": 4,
      "outputs": [
        {
          "output_type": "stream",
          "name": "stderr",
          "text": [
            "/usr/local/lib/python3.10/dist-packages/ipykernel/ipkernel.py:283: DeprecationWarning: `should_run_async` will not call `transform_cell` automatically in the future. Please pass the result to `transformed_cell` argument and any exception that happen during thetransform in `preprocessing_exc_tuple` in IPython 7.17 and above.\n",
            "  and should_run_async(code)\n"
          ]
        }
      ]
    },
    {
      "cell_type": "code",
      "source": [
        "# https://huggingface.co/datasets/sst2\n",
        "\n",
        "from datasets import load_dataset\n",
        "\n",
        "dataset = load_dataset(\"SetFit/sst2\")\n",
        "dataset"
      ],
      "metadata": {
        "colab": {
          "base_uri": "https://localhost:8080/"
        },
        "id": "G1pZcvpL310l",
        "outputId": "9aa3ed62-8e96-4196-b253-82d71666e02e"
      },
      "execution_count": 5,
      "outputs": [
        {
          "output_type": "stream",
          "name": "stderr",
          "text": [
            "Repo card metadata block was not found. Setting CardData to empty.\n",
            "WARNING:huggingface_hub.repocard:Repo card metadata block was not found. Setting CardData to empty.\n"
          ]
        },
        {
          "output_type": "execute_result",
          "data": {
            "text/plain": [
              "DatasetDict({\n",
              "    train: Dataset({\n",
              "        features: ['text', 'label', 'label_text'],\n",
              "        num_rows: 6920\n",
              "    })\n",
              "    validation: Dataset({\n",
              "        features: ['text', 'label', 'label_text'],\n",
              "        num_rows: 872\n",
              "    })\n",
              "    test: Dataset({\n",
              "        features: ['text', 'label', 'label_text'],\n",
              "        num_rows: 1821\n",
              "    })\n",
              "})"
            ]
          },
          "metadata": {},
          "execution_count": 5
        }
      ]
    },
    {
      "cell_type": "code",
      "source": [
        "test_dataset = dataset[\"test\"]\n",
        "test_dataset[0]"
      ],
      "metadata": {
        "colab": {
          "base_uri": "https://localhost:8080/"
        },
        "id": "VXOJzlJb5Ep_",
        "outputId": "d82cf468-3a13-46e9-db25-df8ca6c43dba"
      },
      "execution_count": 6,
      "outputs": [
        {
          "output_type": "execute_result",
          "data": {
            "text/plain": [
              "{'text': 'no movement , no yuks , not much of anything .',\n",
              " 'label': 0,\n",
              " 'label_text': 'negative'}"
            ]
          },
          "metadata": {},
          "execution_count": 6
        }
      ]
    },
    {
      "cell_type": "code",
      "source": [
        "from setfit import sample_dataset\n",
        "\n",
        "num_samples=64\n",
        "# num_samples=16  # typical\n",
        "# num_samples=8  # also typical\n",
        "# num_samples=4\n",
        "# num_samples=2\n",
        "# num_samples=1\n",
        "\n",
        "# more realistic, very small dataset, num_samples samples per category\n",
        "\n",
        "train_dataset = sample_dataset(dataset[\"train\"], label_column=\"label\", num_samples=num_samples)\n",
        "train_dataset"
      ],
      "metadata": {
        "colab": {
          "base_uri": "https://localhost:8080/"
        },
        "id": "iy58N5uo3-Q5",
        "outputId": "c0204ce3-6070-4bec-ff57-12cd951fc728"
      },
      "execution_count": 7,
      "outputs": [
        {
          "output_type": "execute_result",
          "data": {
            "text/plain": [
              "Dataset({\n",
              "    features: ['text', 'label', 'label_text'],\n",
              "    num_rows: 128\n",
              "})"
            ]
          },
          "metadata": {},
          "execution_count": 7
        }
      ]
    },
    {
      "cell_type": "code",
      "source": [
        "train_dataset.data.to_pylist()"
      ],
      "metadata": {
        "colab": {
          "base_uri": "https://localhost:8080/"
        },
        "id": "K6a65PYP486e",
        "outputId": "4d01fe2d-402c-4d0e-ac56-e7f882545936"
      },
      "execution_count": 8,
      "outputs": [
        {
          "output_type": "stream",
          "name": "stderr",
          "text": [
            "/usr/local/lib/python3.10/dist-packages/ipykernel/ipkernel.py:283: DeprecationWarning: `should_run_async` will not call `transform_cell` automatically in the future. Please pass the result to `transformed_cell` argument and any exception that happen during thetransform in `preprocessing_exc_tuple` in IPython 7.17 and above.\n",
            "  and should_run_async(code)\n"
          ]
        },
        {
          "output_type": "execute_result",
          "data": {
            "text/plain": [
              "[{'text': '-lrb- a -rrb- crushing disappointment .',\n",
              "  'label': 0,\n",
              "  'label_text': 'negative'},\n",
              " {'text': \"eddie murphy and owen wilson have a cute partnership in i spy , but the movie around them is so often nearly nothing that their charm does n't do a load of good .\",\n",
              "  'label': 0,\n",
              "  'label_text': 'negative'},\n",
              " {'text': 'bogdanich is unashamedly pro-serbian and makes little attempt to give voice to the other side .',\n",
              "  'label': 0,\n",
              "  'label_text': 'negative'},\n",
              " {'text': 'represents the depths to which the girls-behaving-badly film has fallen .',\n",
              "  'label': 0,\n",
              "  'label_text': 'negative'},\n",
              " {'text': 'the secrets of time travel will have been discovered , indulged in and rejected as boring before i see this piece of crap again .',\n",
              "  'label': 0,\n",
              "  'label_text': 'negative'},\n",
              " {'text': \"the movie is concocted and carried out by folks worthy of scorn , and the nicest thing i can say is that i ca n't remember a single name responsible for it .\",\n",
              "  'label': 0,\n",
              "  'label_text': 'negative'},\n",
              " {'text': 'there might be some sort of credible gender-provoking philosophy submerged here , but who the hell cares ?',\n",
              "  'label': 0,\n",
              "  'label_text': 'negative'},\n",
              " {'text': \"any film that does n't even in passing mention political prisoners , poverty and the boat loads of people who try to escape the country is less a documentary and more propaganda by way of a valentine sealed with a kiss .\",\n",
              "  'label': 0,\n",
              "  'label_text': 'negative'},\n",
              " {'text': 'what makes esther kahn so demanding is that it progresses in such a low-key manner that it risks monotony .',\n",
              "  'label': 0,\n",
              "  'label_text': 'negative'},\n",
              " {'text': 'real-life strongman ahola lacks the charisma and ability to carry the film on his admittedly broad shoulders .',\n",
              "  'label': 0,\n",
              "  'label_text': 'negative'},\n",
              " {'text': 'in all the annals of the movies , few films have been this odd , inexplicable and unpleasant .',\n",
              "  'label': 0,\n",
              "  'label_text': 'negative'},\n",
              " {'text': 'a tired , unimaginative and derivative variation of that already-shallow genre .',\n",
              "  'label': 0,\n",
              "  'label_text': 'negative'},\n",
              " {'text': 'the heedless impetuousness of youth is on full , irritating display in -lrb- this -rrb- meandering and pointless french coming-of-age import from writer-director anne-sophie birot .',\n",
              "  'label': 0,\n",
              "  'label_text': 'negative'},\n",
              " {'text': 'a listless and desultory affair .',\n",
              "  'label': 0,\n",
              "  'label_text': 'negative'},\n",
              " {'text': \"the following things are not at all entertaining : the bad sound , the lack of climax and , worst of all , watching seinfeld -lrb- who is also one of the film 's producers -rrb- do everything he can to look like a good guy .\",\n",
              "  'label': 0,\n",
              "  'label_text': 'negative'},\n",
              " {'text': \"it irritates and saddens me that martin lawrence 's latest vehicle can explode obnoxiously into 2,500 screens while something of bubba ho-tep 's clearly evident quality may end up languishing on a shelf somewhere .\",\n",
              "  'label': 0,\n",
              "  'label_text': 'negative'},\n",
              " {'text': \"the most memorable moment was when green threw medical equipment at a window ; not because it was particularly funny , but because i had a serious urge to grab the old lady at the end of my aisle 's walker and toss it at the screen in frustration .\",\n",
              "  'label': 0,\n",
              "  'label_text': 'negative'},\n",
              " {'text': 'you could hate it for the same reason .',\n",
              "  'label': 0,\n",
              "  'label_text': 'negative'},\n",
              " {'text': \"one of those strained caper movies that 's hardly any fun to watch and begins to vaporize from your memory minutes after it ends .\",\n",
              "  'label': 0,\n",
              "  'label_text': 'negative'},\n",
              " {'text': 'a bland animated sequel that hardly seems worth the effort .',\n",
              "  'label': 0,\n",
              "  'label_text': 'negative'},\n",
              " {'text': \"the sweetest thing is expressly for idiots who do n't care what kind of sewage they shovel into their mental gullets to simulate sustenance .\",\n",
              "  'label': 0,\n",
              "  'label_text': 'negative'},\n",
              " {'text': 'works on the whodunit level as its larger themes get lost in the murk of its own making',\n",
              "  'label': 0,\n",
              "  'label_text': 'negative'},\n",
              " {'text': 'the lousy lead performances ... keep the movie from ever reaching the comic heights it obviously desired .',\n",
              "  'label': 0,\n",
              "  'label_text': 'negative'},\n",
              " {'text': 'painfully padded .', 'label': 0, 'label_text': 'negative'},\n",
              " {'text': 'hill looks to be going through the motions , beginning with the pale script .',\n",
              "  'label': 0,\n",
              "  'label_text': 'negative'},\n",
              " {'text': 'how many more times will indie filmmakers subject us to boring , self-important stories of how horrible we are to ourselves and each other ?',\n",
              "  'label': 0,\n",
              "  'label_text': 'negative'},\n",
              " {'text': \"blood work is laughable in the solemnity with which it tries to pump life into overworked elements from eastwood 's dirty harry period .\",\n",
              "  'label': 0,\n",
              "  'label_text': 'negative'},\n",
              " {'text': 'philosophically , intellectually and logistically a mess .',\n",
              "  'label': 0,\n",
              "  'label_text': 'negative'},\n",
              " {'text': \"costner 's warm-milk persona is just as ill-fitting as shadyac 's perfunctory directing chops , and some of the more overtly silly dialogue would sink laurence olivier .\",\n",
              "  'label': 0,\n",
              "  'label_text': 'negative'},\n",
              " {'text': 'jackass is a vulgar and cheap-looking version of candid camera staged for the marquis de sade set .',\n",
              "  'label': 0,\n",
              "  'label_text': 'negative'},\n",
              " {'text': \"a rip-off twice removed , modeled after -lrb- seagal 's -rrb- earlier copycat under siege , sometimes referred to as die hard on a boat .\",\n",
              "  'label': 0,\n",
              "  'label_text': 'negative'},\n",
              " {'text': \"there 's nothing exactly wrong here , but there 's not nearly enough that 's right .\",\n",
              "  'label': 0,\n",
              "  'label_text': 'negative'},\n",
              " {'text': '... the efforts of its star , kline , to lend some dignity to a dumb story are for naught .',\n",
              "  'label': 0,\n",
              "  'label_text': 'negative'},\n",
              " {'text': \"shunji iwai 's all about lily chou chou is a beautifully shot , but ultimately flawed film about growing up in japan .\",\n",
              "  'label': 0,\n",
              "  'label_text': 'negative'},\n",
              " {'text': '-- is a crime that should be punishable by chainsaw .',\n",
              "  'label': 0,\n",
              "  'label_text': 'negative'},\n",
              " {'text': '-lrb- janey -rrb- forgets about her other obligations , leading to a tragedy which is somehow guessable from the first few minutes , maybe because it echoes the by now intolerable morbidity of so many recent movies .',\n",
              "  'label': 0,\n",
              "  'label_text': 'negative'},\n",
              " {'text': \"it does n't make for great cinema , but it is interesting to see where one 's imagination will lead when given the opportunity .\",\n",
              "  'label': 0,\n",
              "  'label_text': 'negative'},\n",
              " {'text': \"the master of disguise represents adam sandler 's latest attempt to dumb down the universe .\",\n",
              "  'label': 0,\n",
              "  'label_text': 'negative'},\n",
              " {'text': '... del toro maintains a dark mood that makes the film seem like something to endure instead of enjoy .',\n",
              "  'label': 0,\n",
              "  'label_text': 'negative'},\n",
              " {'text': 'an achingly enthralling premise , the film is hindered by uneven dialogue and plot lapses .',\n",
              "  'label': 0,\n",
              "  'label_text': 'negative'},\n",
              " {'text': 'after all , he took three minutes of dialogue , 30 seconds of plot and turned them into a 90-minute movie that feels five hours long .',\n",
              "  'label': 0,\n",
              "  'label_text': 'negative'},\n",
              " {'text': \"it 's a bad sign in a thriller when you instantly know whodunit .\",\n",
              "  'label': 0,\n",
              "  'label_text': 'negative'},\n",
              " {'text': '... a pretentious and ultimately empty examination of a sick and evil woman .',\n",
              "  'label': 0,\n",
              "  'label_text': 'negative'},\n",
              " {'text': 'a dramatic comedy as pleasantly dishonest and pat as any hollywood fluff .',\n",
              "  'label': 0,\n",
              "  'label_text': 'negative'},\n",
              " {'text': \"all the movie 's narrative gymnastics ca n't disguise the fact that it 's inauthentic at its core and that its story just is n't worth telling .\",\n",
              "  'label': 0,\n",
              "  'label_text': 'negative'},\n",
              " {'text': \"another useless recycling of a brutal mid - '70s american sports movie .\",\n",
              "  'label': 0,\n",
              "  'label_text': 'negative'},\n",
              " {'text': \"in other words , about as bad a film you 're likely to see all year .\",\n",
              "  'label': 0,\n",
              "  'label_text': 'negative'},\n",
              " {'text': 'it is supremely unfunny and unentertaining to watch middle-age and older men drink to excess , piss on trees , b.s. one another and put on a show in drag .',\n",
              "  'label': 0,\n",
              "  'label_text': 'negative'},\n",
              " {'text': \"an uneven look into a grim future that does n't come close to the level of intelligence and visual splendour that can be seen in other films based on philip k. dick stories .\",\n",
              "  'label': 0,\n",
              "  'label_text': 'negative'},\n",
              " {'text': 'this is a fragmented film , once a good idea that was followed by the bad idea to turn it into a movie .',\n",
              "  'label': 0,\n",
              "  'label_text': 'negative'},\n",
              " {'text': \"it 's a shame the marvelous first 101 minutes have to be combined with the misconceived final 5 .\",\n",
              "  'label': 0,\n",
              "  'label_text': 'negative'},\n",
              " {'text': \"the fact that the ` best part ' of the movie comes from a 60-second homage to one of demme 's good films does n't bode well for the rest of it .\",\n",
              "  'label': 0,\n",
              "  'label_text': 'negative'},\n",
              " {'text': 'after collateral damage , you might imagine that most every aggrieved father cliché has been unturned .',\n",
              "  'label': 0,\n",
              "  'label_text': 'negative'},\n",
              " {'text': \"but this time , the old mib label stands for milder is n't better .\",\n",
              "  'label': 0,\n",
              "  'label_text': 'negative'},\n",
              " {'text': 'just about all of the film is confusing on one level or another , making ararat far more demanding than it needs to be .',\n",
              "  'label': 0,\n",
              "  'label_text': 'negative'},\n",
              " {'text': 'the characters ... are paper-thin , and their personalities undergo radical changes when it suits the script .',\n",
              "  'label': 0,\n",
              "  'label_text': 'negative'},\n",
              " {'text': 'a droll , bitchy frolic which pokes fun at the price of popularity and small-town pretension in the lone star state .',\n",
              "  'label': 0,\n",
              "  'label_text': 'negative'},\n",
              " {'text': \"a painfully slow cliche-ridden film filled with more holes than clyde barrow 's car .\",\n",
              "  'label': 0,\n",
              "  'label_text': 'negative'},\n",
              " {'text': \"what soured me on the santa clause 2 was that santa bumps up against 21st century reality so hard , it 's icky .\",\n",
              "  'label': 0,\n",
              "  'label_text': 'negative'},\n",
              " {'text': 'it might not be 1970s animation , but everything else about it is straight from the saturday morning cartoons -- a retread story , bad writing , and the same old silliness .',\n",
              "  'label': 0,\n",
              "  'label_text': 'negative'},\n",
              " {'text': 'the movie is so contrived , nonsensical and formulaic that , come to think of it , the day-old shelf would be a more appropriate location to store it .',\n",
              "  'label': 0,\n",
              "  'label_text': 'negative'},\n",
              " {'text': 'brainless , but enjoyably over-the-top , the retro gang melodrama , deuces wild represents fifties teen-gang machismo in a way that borders on rough-trade homo-eroticism .',\n",
              "  'label': 0,\n",
              "  'label_text': 'negative'},\n",
              " {'text': \"if nothing else , `` rollerball '' 2002 may go down in cinema history as the only movie ever in which the rest of the cast was outshined by ll cool j.\",\n",
              "  'label': 0,\n",
              "  'label_text': 'negative'},\n",
              " {'text': 'leaves viewers out in the cold and undermines some phenomenal performances .',\n",
              "  'label': 0,\n",
              "  'label_text': 'negative'},\n",
              " {'text': 'amy and matthew have a bit of a phony relationship , but the film works in spite of it .',\n",
              "  'label': 1,\n",
              "  'label_text': 'positive'},\n",
              " {'text': \"it 's refreshing to see a romance this smart .\",\n",
              "  'label': 1,\n",
              "  'label_text': 'positive'},\n",
              " {'text': 'a culture-clash comedy that , in addition to being very funny , captures some of the discomfort and embarrassment of being a bumbling american in europe .',\n",
              "  'label': 1,\n",
              "  'label_text': 'positive'},\n",
              " {'text': 'but it could be , by its art and heart , a necessary one .',\n",
              "  'label': 1,\n",
              "  'label_text': 'positive'},\n",
              " {'text': 'sayles has an eye for the ways people of different ethnicities talk to and about others outside the group .',\n",
              "  'label': 1,\n",
              "  'label_text': 'positive'},\n",
              " {'text': 'the imax screen enhances the personal touch of manual animation .',\n",
              "  'label': 1,\n",
              "  'label_text': 'positive'},\n",
              " {'text': 'the year 2002 has conjured up more coming-of-age stories than seem possible , but take care of my cat emerges as the very best of them .',\n",
              "  'label': 1,\n",
              "  'label_text': 'positive'},\n",
              " {'text': 'what saves it ... and makes it one of the better video-game-based flicks , is that the film acknowledges upfront that the plot makes no sense , such that the lack of linearity is the point of emotional and moral departure for protagonist alice .',\n",
              "  'label': 1,\n",
              "  'label_text': 'positive'},\n",
              " {'text': \"a movie that sends you out of the theater feeling like you 've actually spent time living in another community .\",\n",
              "  'label': 1,\n",
              "  'label_text': 'positive'},\n",
              " {'text': 'a sensitive , modest comic tragedy that works as both character study and symbolic examination of the huge economic changes sweeping modern china .',\n",
              "  'label': 1,\n",
              "  'label_text': 'positive'},\n",
              " {'text': \"isabelle huppert excels as the enigmatic mika and anna mouglalis is a stunning new young talent in one of chabrol 's most intense psychological mysteries .\",\n",
              "  'label': 1,\n",
              "  'label_text': 'positive'},\n",
              " {'text': \"katz 's documentary does n't have much panache , but with material this rich it does n't need it .\",\n",
              "  'label': 1,\n",
              "  'label_text': 'positive'},\n",
              " {'text': 'i am highly amused by the idea that we have come to a point in society where it has been deemed important enough to make a film in which someone has to be hired to portray richard dawson .',\n",
              "  'label': 1,\n",
              "  'label_text': 'positive'},\n",
              " {'text': \"the irony is that this film 's cast is uniformly superb ; their performances could have -- should have -- been allowed to stand on their own .\",\n",
              "  'label': 1,\n",
              "  'label_text': 'positive'},\n",
              " {'text': \"working from a surprisingly sensitive script co-written by gianni romoli ... ozpetek avoids most of the pitfalls you 'd expect in such a potentially sudsy set-up .\",\n",
              "  'label': 1,\n",
              "  'label_text': 'positive'},\n",
              " {'text': 'delivers more than its fair share of saucy hilarity .',\n",
              "  'label': 1,\n",
              "  'label_text': 'positive'},\n",
              " {'text': 'elegant and eloquent -lrb- meditation -rrb- on death and that most elusive of passions , love .',\n",
              "  'label': 1,\n",
              "  'label_text': 'positive'},\n",
              " {'text': \"this is a children 's film in the truest sense .\",\n",
              "  'label': 1,\n",
              "  'label_text': 'positive'},\n",
              " {'text': 'happy times maintains an appealing veneer without becoming too cute about it .',\n",
              "  'label': 1,\n",
              "  'label_text': 'positive'},\n",
              " {'text': \"mostly works because of the universal themes , earnest performances ... and excellent use of music by india 's popular gulzar and jagjit singh .\",\n",
              "  'label': 1,\n",
              "  'label_text': 'positive'},\n",
              " {'text': \"those who do n't entirely ` get ' godard 's distinctive discourse will still come away with a sense of his reserved but existential poignancy .\",\n",
              "  'label': 1,\n",
              "  'label_text': 'positive'},\n",
              " {'text': \"proves a servicable world war ii drama that ca n't totally hide its contrivances , but it at least calls attention to a problem hollywood too long has ignored .\",\n",
              "  'label': 1,\n",
              "  'label_text': 'positive'},\n",
              " {'text': 'as i settled into my world war ii memories , i found myself strangely moved by even the corniest and most hackneyed contrivances .',\n",
              "  'label': 1,\n",
              "  'label_text': 'positive'},\n",
              " {'text': \"it 's a technically superb film , shining with all the usual spielberg flair , expertly utilizing the talents of his top-notch creative team .\",\n",
              "  'label': 1,\n",
              "  'label_text': 'positive'},\n",
              " {'text': \"schnitzler does a fine job contrasting the sleekness of the film 's present with the playful paranoia of the film 's past . '\",\n",
              "  'label': 1,\n",
              "  'label_text': 'positive'},\n",
              " {'text': 'a forceful drama of an alienated executive who re-invents himself .',\n",
              "  'label': 1,\n",
              "  'label_text': 'positive'},\n",
              " {'text': \"what 's next ?\", 'label': 1, 'label_text': 'positive'},\n",
              " {'text': 'the performances are immaculate , with roussillon providing comic relief .',\n",
              "  'label': 1,\n",
              "  'label_text': 'positive'},\n",
              " {'text': \"while the story does seem pretty unbelievable at times , it 's awfully entertaining to watch .\",\n",
              "  'label': 1,\n",
              "  'label_text': 'positive'},\n",
              " {'text': \"the beauty of alexander payne 's ode to the everyman is in the details .\",\n",
              "  'label': 1,\n",
              "  'label_text': 'positive'},\n",
              " {'text': \"it 's the sweet cinderella story that `` pretty woman '' wanted to be .\",\n",
              "  'label': 1,\n",
              "  'label_text': 'positive'},\n",
              " {'text': 'raimi crafted a complicated hero who is a welcome relief from the usual two-dimensional offerings .',\n",
              "  'label': 1,\n",
              "  'label_text': 'positive'},\n",
              " {'text': 'cletis is playful but highly studied and dependent for its success on a patient viewer .',\n",
              "  'label': 1,\n",
              "  'label_text': 'positive'},\n",
              " {'text': \"filmmakers dana janklowicz-mann and amir mann area headed east , far east , in retelling a historically significant , and personal , episode detailing how one international city welcomed tens of thousands of german jewish refugees while the world 's democracie\",\n",
              "  'label': 1,\n",
              "  'label_text': 'positive'},\n",
              " {'text': 'more than anything else , kissing jessica stein injects freshness and spirit into the romantic comedy genre , which has been held hostage by generic scripts that seek to remake sleepless in seattle again and again .',\n",
              "  'label': 1,\n",
              "  'label_text': 'positive'},\n",
              " {'text': \"director charles stone iii applies more detail to the film 's music than to the story line ; what 's best about drumline is its energy .\",\n",
              "  'label': 1,\n",
              "  'label_text': 'positive'},\n",
              " {'text': \"it 's no lie -- big fat liar is a real charmer .\",\n",
              "  'label': 1,\n",
              "  'label_text': 'positive'},\n",
              " {'text': 'takes a simple premise and carries it to unexpected heights .',\n",
              "  'label': 1,\n",
              "  'label_text': 'positive'},\n",
              " {'text': 'dramas like this make it human .',\n",
              "  'label': 1,\n",
              "  'label_text': 'positive'},\n",
              " {'text': 'for most of its footage , the new thriller proves that director m. night shyamalan can weave an eerie spell and that mel gibson can gasp , shudder and even tremble without losing his machismo .',\n",
              "  'label': 1,\n",
              "  'label_text': 'positive'},\n",
              " {'text': \"there has been a string of ensemble cast romances recently ... but peter mattei 's love in the time of money sets itself apart by forming a chain of relationships that come full circle to end on a positive -lrb- if tragic -rrb- note .\",\n",
              "  'label': 1,\n",
              "  'label_text': 'positive'},\n",
              " {'text': \"at its best , which occurs often , michael moore 's bowling for columbine rekindles the muckraking , soul-searching spirit of the ` are we a sick society ? '\",\n",
              "  'label': 1,\n",
              "  'label_text': 'positive'},\n",
              " {'text': 'sharp edges and a deep vein of sadness run through its otherwise comic narrative .',\n",
              "  'label': 1,\n",
              "  'label_text': 'positive'},\n",
              " {'text': 'just about the surest bet for an all-around good time at the movies this summer .',\n",
              "  'label': 1,\n",
              "  'label_text': 'positive'},\n",
              " {'text': \"vividly conveys the passion , creativity , and fearlessness of one of mexico 's most colorful and controversial artists -- a captivating drama that will speak to the nonconformist in us all .\",\n",
              "  'label': 1,\n",
              "  'label_text': 'positive'},\n",
              " {'text': 'one of the most important and exhilarating forms of animated filmmaking since old walt doodled steamboat willie .',\n",
              "  'label': 1,\n",
              "  'label_text': 'positive'},\n",
              " {'text': 'offers an interesting look at the rapidly changing face of beijing .',\n",
              "  'label': 1,\n",
              "  'label_text': 'positive'},\n",
              " {'text': \"stevens ' vibrant creative instincts are the difference between this and countless other flicks about guys and dolls .\",\n",
              "  'label': 1,\n",
              "  'label_text': 'positive'},\n",
              " {'text': 'reassuring , retro uplifter .',\n",
              "  'label': 1,\n",
              "  'label_text': 'positive'},\n",
              " {'text': \"one of the smarter offerings the horror genre has produced in recent memory , even if it 's far tamer than advertised .\",\n",
              "  'label': 1,\n",
              "  'label_text': 'positive'},\n",
              " {'text': '... an interesting slice of history .',\n",
              "  'label': 1,\n",
              "  'label_text': 'positive'},\n",
              " {'text': 'the film is hard to dismiss -- moody , thoughtful , and lit by flashes of mordant humor .',\n",
              "  'label': 1,\n",
              "  'label_text': 'positive'},\n",
              " {'text': \"the little girls understand , and mccracken knows that 's all that matters .\",\n",
              "  'label': 1,\n",
              "  'label_text': 'positive'},\n",
              " {'text': 'to others , it will remind them that hong kong action cinema is still alive and kicking .',\n",
              "  'label': 1,\n",
              "  'label_text': 'positive'},\n",
              " {'text': 'this rich , bittersweet israeli documentary , about the life of song-and-dance-man pasach ` ke burstein and his family , transcends ethnic lines .',\n",
              "  'label': 1,\n",
              "  'label_text': 'positive'},\n",
              " {'text': \"it 's not particularly well made , but since i found myself howling more than cringing , i 'd say the film works .\",\n",
              "  'label': 1,\n",
              "  'label_text': 'positive'},\n",
              " {'text': 'where janice beard falters in its recycled aspects , implausibility , and sags in pace , it rises in its courageousness , and comedic employment .',\n",
              "  'label': 1,\n",
              "  'label_text': 'positive'},\n",
              " {'text': 'a bright , inventive , thoroughly winning flight of revisionist fancy .',\n",
              "  'label': 1,\n",
              "  'label_text': 'positive'},\n",
              " {'text': 'its story about a young chinese woman , ah na , who has come to new york city to replace past tragedy with the american dream is one that any art-house moviegoer is likely to find compelling .',\n",
              "  'label': 1,\n",
              "  'label_text': 'positive'},\n",
              " {'text': 'good , solid storytelling .', 'label': 1, 'label_text': 'positive'},\n",
              " {'text': 'in an art film !', 'label': 1, 'label_text': 'positive'},\n",
              " {'text': 'warm in its loving yet unforgivingly inconsistent depiction of everyday people , relaxed in its perfect quiet pace and proud in its message .',\n",
              "  'label': 1,\n",
              "  'label_text': 'positive'},\n",
              " {'text': 'there are scenes of cinematic perfection that steal your heart away .',\n",
              "  'label': 1,\n",
              "  'label_text': 'positive'},\n",
              " {'text': 'instead of simply handling conventional material in a conventional way , secretary takes the most unexpected material and handles it in the most unexpected way .',\n",
              "  'label': 1,\n",
              "  'label_text': 'positive'}]"
            ]
          },
          "metadata": {},
          "execution_count": 8
        }
      ]
    },
    {
      "cell_type": "code",
      "source": [
        "from sentence_transformers.losses import CosineSimilarityLoss\n",
        "\n",
        "from setfit import SetFitTrainer\n",
        "\n",
        "trainer = SetFitTrainer(\n",
        "    model=model,\n",
        "    train_dataset=train_dataset,\n",
        "    eval_dataset=test_dataset,\n",
        "    loss_class=CosineSimilarityLoss,\n",
        "    batch_size=16,\n",
        "    num_iterations=20, # Number of text pairs to generate for contrastive learning\n",
        "    num_epochs=1 # Number of epochs to use for contrastive learning\n",
        ")\n"
      ],
      "metadata": {
        "colab": {
          "base_uri": "https://localhost:8080/",
          "height": 85,
          "referenced_widgets": [
            "d48c028b86504f58b0cf766d9030d4b5",
            "53a82477141941e7bcb11665095fe2ee",
            "a464ce8a2f9c405f9e5fb1298f1735b5",
            "833b927e3faa4fa1bc160cc5ecce1fb6",
            "a7d542705a444877a4d1b5a5f126aa82",
            "c1e215724a9446b2b7b8f33feee38d06",
            "3cd8cc34d5a6485186db853f3a0aa56c",
            "0fe1ec0e42cb4ed1a97860752066692e",
            "b1341bd4cbc74440bbbb633d6f15fb1e",
            "a4dcb90735344eada83241a7d0d2777a",
            "2f25413986c34b0d8caa65c96bca93aa"
          ]
        },
        "id": "PN90MAtQL8VH",
        "outputId": "6b319f9e-3b0e-404e-9bf0-9c93479d597a"
      },
      "execution_count": 9,
      "outputs": [
        {
          "output_type": "stream",
          "name": "stderr",
          "text": [
            "<ipython-input-9-37da1a8cbd7c>:5: DeprecationWarning: `SetFitTrainer` has been deprecated and will be removed in v2.0.0 of SetFit. Please use `Trainer` instead.\n",
            "  trainer = SetFitTrainer(\n"
          ]
        },
        {
          "output_type": "display_data",
          "data": {
            "text/plain": [
              "Map:   0%|          | 0/128 [00:00<?, ? examples/s]"
            ],
            "application/vnd.jupyter.widget-view+json": {
              "version_major": 2,
              "version_minor": 0,
              "model_id": "d48c028b86504f58b0cf766d9030d4b5"
            }
          },
          "metadata": {}
        }
      ]
    },
    {
      "cell_type": "code",
      "source": [
        "# from setfit import Trainer, TrainingArguments\n",
        "\n",
        "# args = TrainingArguments(\n",
        "#     batch_size=32, # even though we have less samples, this makes sense - we train on unique pairs\n",
        "#     num_epochs=10,\n",
        "# )\n",
        "\n",
        "# trainer = Trainer(\n",
        "#     model=model,\n",
        "#     args=args,\n",
        "#     train_dataset=train_dataset,\n",
        "# )"
      ],
      "metadata": {
        "id": "ZKDJ6Jh-5urH"
      },
      "execution_count": 10,
      "outputs": []
    },
    {
      "cell_type": "code",
      "source": [
        "%%time\n",
        "\n",
        "trainer.train()"
      ],
      "metadata": {
        "colab": {
          "base_uri": "https://localhost:8080/",
          "height": 200
        },
        "id": "9LRdQLvS7AVp",
        "outputId": "6db5ddb5-0a89-4f8f-fd0d-bf3b3d894566"
      },
      "execution_count": 11,
      "outputs": [
        {
          "output_type": "stream",
          "name": "stderr",
          "text": [
            "***** Running training *****\n",
            "  Num unique pairs = 5120\n",
            "  Batch size = 16\n",
            "  Num epochs = 1\n",
            "  Total optimization steps = 320\n"
          ]
        },
        {
          "output_type": "display_data",
          "data": {
            "text/plain": [
              "<IPython.core.display.HTML object>"
            ],
            "text/html": [
              "\n",
              "    <div>\n",
              "      \n",
              "      <progress value='320' max='320' style='width:300px; height:20px; vertical-align: middle;'></progress>\n",
              "      [320/320 00:36, Epoch 1/0]\n",
              "    </div>\n",
              "    <table border=\"1\" class=\"dataframe\">\n",
              "  <thead>\n",
              " <tr style=\"text-align: left;\">\n",
              "      <th>Step</th>\n",
              "      <th>Training Loss</th>\n",
              "    </tr>\n",
              "  </thead>\n",
              "  <tbody>\n",
              "  </tbody>\n",
              "</table><p>"
            ]
          },
          "metadata": {}
        },
        {
          "output_type": "stream",
          "name": "stdout",
          "text": [
            "CPU times: user 34.7 s, sys: 856 ms, total: 35.6 s\n",
            "Wall time: 39 s\n"
          ]
        }
      ]
    },
    {
      "cell_type": "code",
      "source": [
        "# for \"BAAI/bge-small-en-v1.5\"\n",
        "# Take only a few seconds to train\n",
        "# 84% with 1 sample per category\n",
        "# 83% with 2 samples per category\n",
        "# 84% with 4 samples per category\n",
        "# 85% with 8 samples per category\n",
        "# 87% with 64 samples per category\n",
        "\n",
        "# for \"sentence-transformers/paraphrase-mpnet-base-v2\"\n",
        "# 90% with 8 samples per category\n",
        "\n",
        "trainer.evaluate(test_dataset)"
      ],
      "metadata": {
        "colab": {
          "base_uri": "https://localhost:8080/"
        },
        "id": "Bob3hG2A7Dqk",
        "outputId": "75dd9b02-9800-4cc8-cf40-a00128794cd9"
      },
      "execution_count": 12,
      "outputs": [
        {
          "output_type": "stream",
          "name": "stderr",
          "text": [
            "/usr/local/lib/python3.10/dist-packages/ipykernel/ipkernel.py:283: DeprecationWarning: `should_run_async` will not call `transform_cell` automatically in the future. Please pass the result to `transformed_cell` argument and any exception that happen during thetransform in `preprocessing_exc_tuple` in IPython 7.17 and above.\n",
            "  and should_run_async(code)\n",
            "***** Running evaluation *****\n"
          ]
        },
        {
          "output_type": "execute_result",
          "data": {
            "text/plain": [
              "{'accuracy': 0.8671059857221307}"
            ]
          },
          "metadata": {},
          "execution_count": 12
        }
      ]
    },
    {
      "cell_type": "code",
      "source": [
        "model_name = \"setfit-bge-small-v1.5-sst2-8-shot\""
      ],
      "metadata": {
        "colab": {
          "base_uri": "https://localhost:8080/"
        },
        "id": "8LAPwPm77ZyY",
        "outputId": "5d727fc8-5d32-4ac4-8369-81d3e69d6d82"
      },
      "execution_count": 13,
      "outputs": [
        {
          "output_type": "stream",
          "name": "stderr",
          "text": [
            "/usr/local/lib/python3.10/dist-packages/ipykernel/ipkernel.py:283: DeprecationWarning: `should_run_async` will not call `transform_cell` automatically in the future. Please pass the result to `transformed_cell` argument and any exception that happen during thetransform in `preprocessing_exc_tuple` in IPython 7.17 and above.\n",
            "  and should_run_async(code)\n"
          ]
        }
      ]
    },
    {
      "cell_type": "code",
      "source": [
        "model.save_pretrained(model_name)"
      ],
      "metadata": {
        "id": "Pb6Mt6dI7It5"
      },
      "execution_count": 14,
      "outputs": []
    },
    {
      "cell_type": "code",
      "source": [
        "!ls -lh {model_name}"
      ],
      "metadata": {
        "colab": {
          "base_uri": "https://localhost:8080/"
        },
        "id": "-XmEaQVV7QG3",
        "outputId": "e18c1fc8-6402-4869-dcb6-b58f82d2f748"
      },
      "execution_count": 15,
      "outputs": [
        {
          "output_type": "stream",
          "name": "stdout",
          "text": [
            "total 129M\n",
            "drwxr-xr-x 2 root root 4.0K May  6 09:17 1_Pooling\n",
            "drwxr-xr-x 2 root root 4.0K May  6 09:32 2_Normalize\n",
            "-rw-r--r-- 1 root root  706 May  6 09:37 config.json\n",
            "-rw-r--r-- 1 root root  172 May  6 09:37 config_sentence_transformers.json\n",
            "-rw-r--r-- 1 root root   85 May  6 09:37 config_setfit.json\n",
            "-rw-r--r-- 1 root root 3.9K May  6 09:37 model_head.pkl\n",
            "-rw-r--r-- 1 root root 128M May  6 09:37 model.safetensors\n",
            "-rw-r--r-- 1 root root  349 May  6 09:37 modules.json\n",
            "-rw-r--r-- 1 root root 8.4K May  6 09:37 README.md\n",
            "-rw-r--r-- 1 root root   52 May  6 09:37 sentence_bert_config.json\n",
            "-rw-r--r-- 1 root root  695 May  6 09:37 special_tokens_map.json\n",
            "-rw-r--r-- 1 root root 1.3K May  6 09:37 tokenizer_config.json\n",
            "-rw-r--r-- 1 root root 695K May  6 09:37 tokenizer.json\n",
            "-rw-r--r-- 1 root root 227K May  6 09:37 vocab.txt\n"
          ]
        }
      ]
    },
    {
      "cell_type": "code",
      "source": [
        "# obviously not neccessary, only here for illustration on how to load a model\n",
        "model = SetFitModel.from_pretrained(model_name)"
      ],
      "metadata": {
        "id": "2oZAvsNd7Q6l"
      },
      "execution_count": 16,
      "outputs": []
    },
    {
      "cell_type": "code",
      "source": [
        "preds = model.predict([\n",
        "    \"It's a charming and often affecting journey.\",\n",
        "    \"It's slow -- very, very slow.\",\n",
        "    \"A sometimes tedious film.\",\n",
        "    \"Greatest experience of my life (not)\",\n",
        "])\n",
        "preds"
      ],
      "metadata": {
        "colab": {
          "base_uri": "https://localhost:8080/"
        },
        "id": "dlLSZNKJ762r",
        "outputId": "14a563f1-c6ce-4e6c-e0f5-82b583c172b3"
      },
      "execution_count": 17,
      "outputs": [
        {
          "output_type": "execute_result",
          "data": {
            "text/plain": [
              "['positive', 'negative', 'negative', 'positive']"
            ]
          },
          "metadata": {},
          "execution_count": 17
        }
      ]
    },
    {
      "cell_type": "code",
      "source": [
        "!nvidia-smi"
      ],
      "metadata": {
        "colab": {
          "base_uri": "https://localhost:8080/"
        },
        "id": "d58rd9XICiVR",
        "outputId": "e8753039-1eae-4fa0-a10d-401bf39450f9"
      },
      "execution_count": 18,
      "outputs": [
        {
          "output_type": "stream",
          "name": "stdout",
          "text": [
            "Mon May  6 09:37:01 2024       \n",
            "+---------------------------------------------------------------------------------------+\n",
            "| NVIDIA-SMI 535.104.05             Driver Version: 535.104.05   CUDA Version: 12.2     |\n",
            "|-----------------------------------------+----------------------+----------------------+\n",
            "| GPU  Name                 Persistence-M | Bus-Id        Disp.A | Volatile Uncorr. ECC |\n",
            "| Fan  Temp   Perf          Pwr:Usage/Cap |         Memory-Usage | GPU-Util  Compute M. |\n",
            "|                                         |                      |               MIG M. |\n",
            "|=========================================+======================+======================|\n",
            "|   0  Tesla T4                       Off | 00000000:00:04.0 Off |                    0 |\n",
            "| N/A   78C    P0              45W /  70W |   1541MiB / 15360MiB |      4%      Default |\n",
            "|                                         |                      |                  N/A |\n",
            "+-----------------------------------------+----------------------+----------------------+\n",
            "                                                                                         \n",
            "+---------------------------------------------------------------------------------------+\n",
            "| Processes:                                                                            |\n",
            "|  GPU   GI   CI        PID   Type   Process name                            GPU Memory |\n",
            "|        ID   ID                                                             Usage      |\n",
            "|=======================================================================================|\n",
            "+---------------------------------------------------------------------------------------+\n"
          ]
        },
        {
          "output_type": "stream",
          "name": "stderr",
          "text": [
            "/usr/local/lib/python3.10/dist-packages/ipykernel/ipkernel.py:283: DeprecationWarning: `should_run_async` will not call `transform_cell` automatically in the future. Please pass the result to `transformed_cell` argument and any exception that happen during thetransform in `preprocessing_exc_tuple` in IPython 7.17 and above.\n",
            "  and should_run_async(code)\n"
          ]
        }
      ]
    },
    {
      "cell_type": "code",
      "source": [],
      "metadata": {
        "id": "ClDf7djBMxm8"
      },
      "execution_count": 18,
      "outputs": []
    }
  ]
}