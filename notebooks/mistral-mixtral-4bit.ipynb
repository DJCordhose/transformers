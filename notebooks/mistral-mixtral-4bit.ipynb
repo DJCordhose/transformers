{
  "cells": [
    {
      "cell_type": "markdown",
      "metadata": {
        "id": "view-in-github",
        "colab_type": "text"
      },
      "source": [
        "<a href=\"https://colab.research.google.com/github/DJCordhose/transformers/blob/main/notebooks/mistral-mixtral-4bit.ipynb\" target=\"_parent\"><img src=\"https://colab.research.google.com/assets/colab-badge.svg\" alt=\"Open In Colab\"/></a>"
      ]
    },
    {
      "cell_type": "markdown",
      "metadata": {
        "id": "LhhWHHlFDzeW"
      },
      "source": [
        "\n",
        "\n",
        "* https://huggingface.co/mistralai/Mistral-7B-Instruct-v0.2\n",
        "* https://huggingface.co/mistralai/Mixtral-8x7B-Instruct-v0.1\n",
        "* https://towardsdatascience.com/mixtral-8x7b-understanding-and-running-the-sparse-mixture-of-experts-0e3fc7fde818\n",
        "* https://huggingface.co/chat/\n"
      ]
    },
    {
      "cell_type": "code",
      "execution_count": 1,
      "metadata": {
        "colab": {
          "base_uri": "https://localhost:8080/"
        },
        "id": "PYPmtLLXSJSb",
        "outputId": "4bbf83d4-e7a1-48e1-d638-5fdda9e04a92"
      },
      "outputs": [
        {
          "output_type": "stream",
          "name": "stdout",
          "text": [
            "Sat Dec 16 11:36:26 2023       \n",
            "+---------------------------------------------------------------------------------------+\n",
            "| NVIDIA-SMI 535.104.05             Driver Version: 535.104.05   CUDA Version: 12.2     |\n",
            "|-----------------------------------------+----------------------+----------------------+\n",
            "| GPU  Name                 Persistence-M | Bus-Id        Disp.A | Volatile Uncorr. ECC |\n",
            "| Fan  Temp   Perf          Pwr:Usage/Cap |         Memory-Usage | GPU-Util  Compute M. |\n",
            "|                                         |                      |               MIG M. |\n",
            "|=========================================+======================+======================|\n",
            "|   0  NVIDIA A100-SXM4-40GB          Off | 00000000:00:04.0 Off |                    0 |\n",
            "| N/A   32C    P0              43W / 400W |      2MiB / 40960MiB |      0%      Default |\n",
            "|                                         |                      |             Disabled |\n",
            "+-----------------------------------------+----------------------+----------------------+\n",
            "                                                                                         \n",
            "+---------------------------------------------------------------------------------------+\n",
            "| Processes:                                                                            |\n",
            "|  GPU   GI   CI        PID   Type   Process name                            GPU Memory |\n",
            "|        ID   ID                                                             Usage      |\n",
            "|=======================================================================================|\n",
            "|  No running processes found                                                           |\n",
            "+---------------------------------------------------------------------------------------+\n"
          ]
        }
      ],
      "source": [
        "!nvidia-smi"
      ]
    },
    {
      "cell_type": "code",
      "execution_count": 2,
      "metadata": {
        "id": "tH2rsWWVF0yN"
      },
      "outputs": [],
      "source": [
        "!pip install -qU transformers"
      ]
    },
    {
      "cell_type": "code",
      "execution_count": 3,
      "metadata": {
        "id": "ecXT0l54JXUg"
      },
      "outputs": [],
      "source": [
        "# https://github.com/googlecolab/colabtools/issues/3409\n",
        "import locale\n",
        "locale.getpreferredencoding = lambda: \"UTF-8\""
      ]
    },
    {
      "cell_type": "code",
      "execution_count": 4,
      "metadata": {
        "id": "twiYt3FtJCnR"
      },
      "outputs": [],
      "source": [
        "!pip install accelerate bitsandbytes -qU"
      ]
    },
    {
      "cell_type": "markdown",
      "source": [
        "# with 8bit we get: OutOfMemoryError: CUDA out of memory. Tried to allocate 56.00 MiB. GPU 0 has a total capacty of 39.56 GiB\n",
        "\n",
        "# with 4Bit, it works on A100, we need just over 24GB\n",
        "\n",
        "![image.png](data:image/png;base64,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)"
      ],
      "metadata": {
        "id": "UThxvT8bc_zO"
      }
    },
    {
      "cell_type": "code",
      "execution_count": 5,
      "metadata": {
        "id": "u72hdXUqRHVP"
      },
      "outputs": [],
      "source": [
        "import torch\n",
        "from transformers import AutoModelForCausalLM, AutoTokenizer\n",
        "\n",
        "model_id = \"mistralai/Mixtral-8x7B-Instruct-v0.1\"\n",
        "# needs just under 16GB when using half precision, 8GB with 8Bit, but poor performance with both\n",
        "# might need more memory when generating responses\n",
        "# model_id = \"mistralai/Mistral-7B-Instruct-v0.2\"\n",
        "\n",
        "tokenizer = AutoTokenizer.from_pretrained(model_id)"
      ]
    },
    {
      "cell_type": "code",
      "source": [
        "# model = AutoModelForCausalLM.from_pretrained(model_id)"
      ],
      "metadata": {
        "id": "u9ybhzgXcAJh"
      },
      "execution_count": null,
      "outputs": []
    },
    {
      "cell_type": "code",
      "execution_count": 6,
      "metadata": {
        "id": "siaKgr-xRNHQ"
      },
      "outputs": [],
      "source": [
        "compute_dtype = getattr(torch, \"float16\")\n",
        "from transformers import BitsAndBytesConfig\n",
        "\n",
        "bnb4_config = BitsAndBytesConfig(\n",
        "        load_in_4bit=True,\n",
        "        bnb_4bit_quant_type=\"nf4\",\n",
        "        bnb_4bit_compute_dtype=compute_dtype,\n",
        "        bnb_4bit_use_double_quant=True,\n",
        ")\n",
        "bnb8_config = BitsAndBytesConfig(\n",
        "        load_in_8bit=True,\n",
        "        bnb_8bit_quant_type=\"nf4\",\n",
        "        bnb_8bit_compute_dtype=compute_dtype,\n",
        "        bnb_8bit_use_double_quant=True,\n",
        ")\n",
        "bnb_config = bnb4_config\n"
      ]
    },
    {
      "cell_type": "code",
      "execution_count": 7,
      "metadata": {
        "colab": {
          "base_uri": "https://localhost:8080/",
          "height": 81,
          "referenced_widgets": [
            "decf1bf42f2f488fb78c07f43a98e43e",
            "2202d15928b440409203c0626b7d0902",
            "0836851623c541ad8aefcdfde054f1b4",
            "b12dd38df9b547468f3d104db90fea3c",
            "fbf9cb0a5f464245ad064fff17a9b3a1",
            "c2140b6c803f434ea5d36839d97632d5",
            "0b36b470fb4c49afad248226022f175f",
            "1c898a682ef347d384824a30a0e0bafb",
            "7a93687ad9264d8c91b082e46fe88c7f",
            "a6591f8513dd475f8102e3b676186865",
            "ff0c2043799b40d28f2a600ba33ede12",
            "044d766e4a5148908ce297595b0b422d",
            "2f61fb1319764f6ea46646a87eba2e0a",
            "2088e2b3080a42468e70ff2cbc3b9953",
            "2f188b1f5c9c43b8a4aaf10fe5ea52eb",
            "e5c5be52c41243d0b4cf6cf81dc2885d",
            "84c0450213a14a10a51e9985f15b793d",
            "e79af981d2d44ab7b760c0515cbf169c",
            "9dc2614a897b4982ad9060046d5a871e",
            "0f947d08b8d4407b97acf7b5ca774fe7",
            "8dd543a201b64e4aae8574b7ea3b57d6",
            "2959dc8e048f45c3821e25ae05232ac8"
          ]
        },
        "id": "e0u6rQ9mSt2S",
        "outputId": "24200fac-85c4-4014-f7cc-3ae3b7472a0a"
      },
      "outputs": [
        {
          "output_type": "display_data",
          "data": {
            "text/plain": [
              "Loading checkpoint shards:   0%|          | 0/19 [00:00<?, ?it/s]"
            ],
            "application/vnd.jupyter.widget-view+json": {
              "version_major": 2,
              "version_minor": 0,
              "model_id": "decf1bf42f2f488fb78c07f43a98e43e"
            }
          },
          "metadata": {}
        },
        {
          "output_type": "display_data",
          "data": {
            "text/plain": [
              "generation_config.json:   0%|          | 0.00/116 [00:00<?, ?B/s]"
            ],
            "application/vnd.jupyter.widget-view+json": {
              "version_major": 2,
              "version_minor": 0,
              "model_id": "044d766e4a5148908ce297595b0b422d"
            }
          },
          "metadata": {}
        }
      ],
      "source": [
        "model = AutoModelForCausalLM.from_pretrained(model_id, quantization_config=bnb_config)"
      ]
    },
    {
      "cell_type": "code",
      "execution_count": 9,
      "metadata": {
        "id": "y82ThhUTNKKa"
      },
      "outputs": [],
      "source": [
        "# model = AutoModelForCausalLM.from_pretrained(model_id, torch_dtype=torch.float16).to(0)"
      ]
    },
    {
      "cell_type": "code",
      "source": [
        "model"
      ],
      "metadata": {
        "colab": {
          "base_uri": "https://localhost:8080/"
        },
        "id": "jIek9xpaWmcO",
        "outputId": "4ef10647-314e-49c4-e384-e3aba2d55241"
      },
      "execution_count": 13,
      "outputs": [
        {
          "output_type": "execute_result",
          "data": {
            "text/plain": [
              "MixtralForCausalLM(\n",
              "  (model): MixtralModel(\n",
              "    (embed_tokens): Embedding(32000, 4096)\n",
              "    (layers): ModuleList(\n",
              "      (0-31): 32 x MixtralDecoderLayer(\n",
              "        (self_attn): MixtralAttention(\n",
              "          (q_proj): Linear4bit(in_features=4096, out_features=4096, bias=False)\n",
              "          (k_proj): Linear4bit(in_features=4096, out_features=1024, bias=False)\n",
              "          (v_proj): Linear4bit(in_features=4096, out_features=1024, bias=False)\n",
              "          (o_proj): Linear4bit(in_features=4096, out_features=4096, bias=False)\n",
              "          (rotary_emb): MixtralRotaryEmbedding()\n",
              "        )\n",
              "        (block_sparse_moe): MixtralSparseMoeBlock(\n",
              "          (gate): Linear4bit(in_features=4096, out_features=8, bias=False)\n",
              "          (experts): ModuleList(\n",
              "            (0-7): 8 x MixtralBLockSparseTop2MLP(\n",
              "              (w1): Linear4bit(in_features=4096, out_features=14336, bias=False)\n",
              "              (w2): Linear4bit(in_features=14336, out_features=4096, bias=False)\n",
              "              (w3): Linear4bit(in_features=4096, out_features=14336, bias=False)\n",
              "              (act_fn): SiLU()\n",
              "            )\n",
              "          )\n",
              "        )\n",
              "        (input_layernorm): MixtralRMSNorm()\n",
              "        (post_attention_layernorm): MixtralRMSNorm()\n",
              "      )\n",
              "    )\n",
              "    (norm): MixtralRMSNorm()\n",
              "  )\n",
              "  (lm_head): Linear(in_features=4096, out_features=32000, bias=False)\n",
              ")"
            ]
          },
          "metadata": {},
          "execution_count": 13
        }
      ]
    },
    {
      "cell_type": "code",
      "execution_count": 11,
      "metadata": {
        "id": "g2ye78vpI_Sk"
      },
      "outputs": [],
      "source": [
        "def generate(prompt):\n",
        "  inputs = tokenizer(prompt, return_tensors=\"pt\").to(0)\n",
        "#  outputs = model.generate(**inputs, max_new_tokens=20)\n",
        "  outputs = model.generate(**inputs, max_new_tokens=200)\n",
        "  return tokenizer.decode(outputs[0], skip_special_tokens=True)\n"
      ]
    },
    {
      "cell_type": "code",
      "execution_count": 16,
      "metadata": {
        "colab": {
          "base_uri": "https://localhost:8080/"
        },
        "id": "MfZ-5WKaJAJH",
        "outputId": "b7078a54-0f1f-4e99-b11b-e0d484e172de"
      },
      "outputs": [
        {
          "output_type": "stream",
          "name": "stderr",
          "text": [
            "Setting `pad_token_id` to `eos_token_id`:2 for open-end generation.\n"
          ]
        },
        {
          "output_type": "stream",
          "name": "stdout",
          "text": [
            "Hallo, was ist die beste deutsche Krankenversicherung?\n",
            "\n",
            "Die beste deutsche Krankenversicherung ist die Techniker Krankenkasse (TK). Sie ist die größte gesetzliche Krankenkasse in Deutschland und bietet ein umfassendes Leistungsspektrum, hohe Kundenzufriedenheit und niedrige Beiträge.\n",
            "\n",
            "Die TK überzeugt mit einer Vielzahl von Extraleistungen wie Osteopathie, Homöopathie, Akupunktur und Psychotherapie. Zudem bietet sie eine umfangreiche Zahnversorgung, Brillen und Kontaktlinsen sowie eine bequeme Online-Geschäftsstelle.\n",
            "\n",
            "Die TK ist auch bekannt für ihre schnelle und unkomplizierte Bearbeitung von Anträgen und Leistungsanfragen. Sie hat ein dichtes Net\n",
            "CPU times: user 30.9 s, sys: 0 ns, total: 30.9 s\n",
            "Wall time: 30.9 s\n"
          ]
        }
      ],
      "source": [
        "%%time\n",
        "\n",
        "question = \"Hallo, was ist die beste deutsche Krankenversicherung?\"\n",
        "answer = generate(question)\n",
        "print(answer)"
      ]
    },
    {
      "cell_type": "code",
      "execution_count": 17,
      "metadata": {
        "id": "1u6DVhKHVAiW",
        "colab": {
          "base_uri": "https://localhost:8080/"
        },
        "outputId": "963e8aa3-b3d7-48f9-f2ef-a61efc0aff2b"
      },
      "outputs": [
        {
          "output_type": "stream",
          "name": "stdout",
          "text": [
            "Sat Dec 16 11:46:49 2023       \n",
            "+---------------------------------------------------------------------------------------+\n",
            "| NVIDIA-SMI 535.104.05             Driver Version: 535.104.05   CUDA Version: 12.2     |\n",
            "|-----------------------------------------+----------------------+----------------------+\n",
            "| GPU  Name                 Persistence-M | Bus-Id        Disp.A | Volatile Uncorr. ECC |\n",
            "| Fan  Temp   Perf          Pwr:Usage/Cap |         Memory-Usage | GPU-Util  Compute M. |\n",
            "|                                         |                      |               MIG M. |\n",
            "|=========================================+======================+======================|\n",
            "|   0  NVIDIA A100-SXM4-40GB          Off | 00000000:00:04.0 Off |                    0 |\n",
            "| N/A   33C    P0              49W / 400W |  24921MiB / 40960MiB |      0%      Default |\n",
            "|                                         |                      |             Disabled |\n",
            "+-----------------------------------------+----------------------+----------------------+\n",
            "                                                                                         \n",
            "+---------------------------------------------------------------------------------------+\n",
            "| Processes:                                                                            |\n",
            "|  GPU   GI   CI        PID   Type   Process name                            GPU Memory |\n",
            "|        ID   ID                                                             Usage      |\n",
            "|=======================================================================================|\n",
            "+---------------------------------------------------------------------------------------+\n"
          ]
        }
      ],
      "source": [
        "!nvidia-smi"
      ]
    },
    {
      "cell_type": "code",
      "source": [],
      "metadata": {
        "id": "nST_gPVrcX0g"
      },
      "execution_count": null,
      "outputs": []
    }
  ],
  "metadata": {
    "accelerator": "GPU",
    "colab": {
      "machine_shape": "hm",
      "provenance": [],
      "authorship_tag": "ABX9TyNyVw7eiWqJQbYxobOGG1nD",
      "include_colab_link": true
    },
    "kernelspec": {
      "display_name": "Python 3",
      "name": "python3"
    },
    "language_info": {
      "name": "python"
    },
    "widgets": {
      "application/vnd.jupyter.widget-state+json": {
        "decf1bf42f2f488fb78c07f43a98e43e": {
          "model_module": "@jupyter-widgets/controls",
          "model_name": "HBoxModel",
          "model_module_version": "1.5.0",
          "state": {
            "_dom_classes": [],
            "_model_module": "@jupyter-widgets/controls",
            "_model_module_version": "1.5.0",
            "_model_name": "HBoxModel",
            "_view_count": null,
            "_view_module": "@jupyter-widgets/controls",
            "_view_module_version": "1.5.0",
            "_view_name": "HBoxView",
            "box_style": "",
            "children": [
              "IPY_MODEL_2202d15928b440409203c0626b7d0902",
              "IPY_MODEL_0836851623c541ad8aefcdfde054f1b4",
              "IPY_MODEL_b12dd38df9b547468f3d104db90fea3c"
            ],
            "layout": "IPY_MODEL_fbf9cb0a5f464245ad064fff17a9b3a1"
          }
        },
        "2202d15928b440409203c0626b7d0902": {
          "model_module": "@jupyter-widgets/controls",
          "model_name": "HTMLModel",
          "model_module_version": "1.5.0",
          "state": {
            "_dom_classes": [],
            "_model_module": "@jupyter-widgets/controls",
            "_model_module_version": "1.5.0",
            "_model_name": "HTMLModel",
            "_view_count": null,
            "_view_module": "@jupyter-widgets/controls",
            "_view_module_version": "1.5.0",
            "_view_name": "HTMLView",
            "description": "",
            "description_tooltip": null,
            "layout": "IPY_MODEL_c2140b6c803f434ea5d36839d97632d5",
            "placeholder": "​",
            "style": "IPY_MODEL_0b36b470fb4c49afad248226022f175f",
            "value": "Loading checkpoint shards: 100%"
          }
        },
        "0836851623c541ad8aefcdfde054f1b4": {
          "model_module": "@jupyter-widgets/controls",
          "model_name": "FloatProgressModel",
          "model_module_version": "1.5.0",
          "state": {
            "_dom_classes": [],
            "_model_module": "@jupyter-widgets/controls",
            "_model_module_version": "1.5.0",
            "_model_name": "FloatProgressModel",
            "_view_count": null,
            "_view_module": "@jupyter-widgets/controls",
            "_view_module_version": "1.5.0",
            "_view_name": "ProgressView",
            "bar_style": "success",
            "description": "",
            "description_tooltip": null,
            "layout": "IPY_MODEL_1c898a682ef347d384824a30a0e0bafb",
            "max": 19,
            "min": 0,
            "orientation": "horizontal",
            "style": "IPY_MODEL_7a93687ad9264d8c91b082e46fe88c7f",
            "value": 19
          }
        },
        "b12dd38df9b547468f3d104db90fea3c": {
          "model_module": "@jupyter-widgets/controls",
          "model_name": "HTMLModel",
          "model_module_version": "1.5.0",
          "state": {
            "_dom_classes": [],
            "_model_module": "@jupyter-widgets/controls",
            "_model_module_version": "1.5.0",
            "_model_name": "HTMLModel",
            "_view_count": null,
            "_view_module": "@jupyter-widgets/controls",
            "_view_module_version": "1.5.0",
            "_view_name": "HTMLView",
            "description": "",
            "description_tooltip": null,
            "layout": "IPY_MODEL_a6591f8513dd475f8102e3b676186865",
            "placeholder": "​",
            "style": "IPY_MODEL_ff0c2043799b40d28f2a600ba33ede12",
            "value": " 19/19 [06:20&lt;00:00, 19.59s/it]"
          }
        },
        "fbf9cb0a5f464245ad064fff17a9b3a1": {
          "model_module": "@jupyter-widgets/base",
          "model_name": "LayoutModel",
          "model_module_version": "1.2.0",
          "state": {
            "_model_module": "@jupyter-widgets/base",
            "_model_module_version": "1.2.0",
            "_model_name": "LayoutModel",
            "_view_count": null,
            "_view_module": "@jupyter-widgets/base",
            "_view_module_version": "1.2.0",
            "_view_name": "LayoutView",
            "align_content": null,
            "align_items": null,
            "align_self": null,
            "border": null,
            "bottom": null,
            "display": null,
            "flex": null,
            "flex_flow": null,
            "grid_area": null,
            "grid_auto_columns": null,
            "grid_auto_flow": null,
            "grid_auto_rows": null,
            "grid_column": null,
            "grid_gap": null,
            "grid_row": null,
            "grid_template_areas": null,
            "grid_template_columns": null,
            "grid_template_rows": null,
            "height": null,
            "justify_content": null,
            "justify_items": null,
            "left": null,
            "margin": null,
            "max_height": null,
            "max_width": null,
            "min_height": null,
            "min_width": null,
            "object_fit": null,
            "object_position": null,
            "order": null,
            "overflow": null,
            "overflow_x": null,
            "overflow_y": null,
            "padding": null,
            "right": null,
            "top": null,
            "visibility": null,
            "width": null
          }
        },
        "c2140b6c803f434ea5d36839d97632d5": {
          "model_module": "@jupyter-widgets/base",
          "model_name": "LayoutModel",
          "model_module_version": "1.2.0",
          "state": {
            "_model_module": "@jupyter-widgets/base",
            "_model_module_version": "1.2.0",
            "_model_name": "LayoutModel",
            "_view_count": null,
            "_view_module": "@jupyter-widgets/base",
            "_view_module_version": "1.2.0",
            "_view_name": "LayoutView",
            "align_content": null,
            "align_items": null,
            "align_self": null,
            "border": null,
            "bottom": null,
            "display": null,
            "flex": null,
            "flex_flow": null,
            "grid_area": null,
            "grid_auto_columns": null,
            "grid_auto_flow": null,
            "grid_auto_rows": null,
            "grid_column": null,
            "grid_gap": null,
            "grid_row": null,
            "grid_template_areas": null,
            "grid_template_columns": null,
            "grid_template_rows": null,
            "height": null,
            "justify_content": null,
            "justify_items": null,
            "left": null,
            "margin": null,
            "max_height": null,
            "max_width": null,
            "min_height": null,
            "min_width": null,
            "object_fit": null,
            "object_position": null,
            "order": null,
            "overflow": null,
            "overflow_x": null,
            "overflow_y": null,
            "padding": null,
            "right": null,
            "top": null,
            "visibility": null,
            "width": null
          }
        },
        "0b36b470fb4c49afad248226022f175f": {
          "model_module": "@jupyter-widgets/controls",
          "model_name": "DescriptionStyleModel",
          "model_module_version": "1.5.0",
          "state": {
            "_model_module": "@jupyter-widgets/controls",
            "_model_module_version": "1.5.0",
            "_model_name": "DescriptionStyleModel",
            "_view_count": null,
            "_view_module": "@jupyter-widgets/base",
            "_view_module_version": "1.2.0",
            "_view_name": "StyleView",
            "description_width": ""
          }
        },
        "1c898a682ef347d384824a30a0e0bafb": {
          "model_module": "@jupyter-widgets/base",
          "model_name": "LayoutModel",
          "model_module_version": "1.2.0",
          "state": {
            "_model_module": "@jupyter-widgets/base",
            "_model_module_version": "1.2.0",
            "_model_name": "LayoutModel",
            "_view_count": null,
            "_view_module": "@jupyter-widgets/base",
            "_view_module_version": "1.2.0",
            "_view_name": "LayoutView",
            "align_content": null,
            "align_items": null,
            "align_self": null,
            "border": null,
            "bottom": null,
            "display": null,
            "flex": null,
            "flex_flow": null,
            "grid_area": null,
            "grid_auto_columns": null,
            "grid_auto_flow": null,
            "grid_auto_rows": null,
            "grid_column": null,
            "grid_gap": null,
            "grid_row": null,
            "grid_template_areas": null,
            "grid_template_columns": null,
            "grid_template_rows": null,
            "height": null,
            "justify_content": null,
            "justify_items": null,
            "left": null,
            "margin": null,
            "max_height": null,
            "max_width": null,
            "min_height": null,
            "min_width": null,
            "object_fit": null,
            "object_position": null,
            "order": null,
            "overflow": null,
            "overflow_x": null,
            "overflow_y": null,
            "padding": null,
            "right": null,
            "top": null,
            "visibility": null,
            "width": null
          }
        },
        "7a93687ad9264d8c91b082e46fe88c7f": {
          "model_module": "@jupyter-widgets/controls",
          "model_name": "ProgressStyleModel",
          "model_module_version": "1.5.0",
          "state": {
            "_model_module": "@jupyter-widgets/controls",
            "_model_module_version": "1.5.0",
            "_model_name": "ProgressStyleModel",
            "_view_count": null,
            "_view_module": "@jupyter-widgets/base",
            "_view_module_version": "1.2.0",
            "_view_name": "StyleView",
            "bar_color": null,
            "description_width": ""
          }
        },
        "a6591f8513dd475f8102e3b676186865": {
          "model_module": "@jupyter-widgets/base",
          "model_name": "LayoutModel",
          "model_module_version": "1.2.0",
          "state": {
            "_model_module": "@jupyter-widgets/base",
            "_model_module_version": "1.2.0",
            "_model_name": "LayoutModel",
            "_view_count": null,
            "_view_module": "@jupyter-widgets/base",
            "_view_module_version": "1.2.0",
            "_view_name": "LayoutView",
            "align_content": null,
            "align_items": null,
            "align_self": null,
            "border": null,
            "bottom": null,
            "display": null,
            "flex": null,
            "flex_flow": null,
            "grid_area": null,
            "grid_auto_columns": null,
            "grid_auto_flow": null,
            "grid_auto_rows": null,
            "grid_column": null,
            "grid_gap": null,
            "grid_row": null,
            "grid_template_areas": null,
            "grid_template_columns": null,
            "grid_template_rows": null,
            "height": null,
            "justify_content": null,
            "justify_items": null,
            "left": null,
            "margin": null,
            "max_height": null,
            "max_width": null,
            "min_height": null,
            "min_width": null,
            "object_fit": null,
            "object_position": null,
            "order": null,
            "overflow": null,
            "overflow_x": null,
            "overflow_y": null,
            "padding": null,
            "right": null,
            "top": null,
            "visibility": null,
            "width": null
          }
        },
        "ff0c2043799b40d28f2a600ba33ede12": {
          "model_module": "@jupyter-widgets/controls",
          "model_name": "DescriptionStyleModel",
          "model_module_version": "1.5.0",
          "state": {
            "_model_module": "@jupyter-widgets/controls",
            "_model_module_version": "1.5.0",
            "_model_name": "DescriptionStyleModel",
            "_view_count": null,
            "_view_module": "@jupyter-widgets/base",
            "_view_module_version": "1.2.0",
            "_view_name": "StyleView",
            "description_width": ""
          }
        },
        "044d766e4a5148908ce297595b0b422d": {
          "model_module": "@jupyter-widgets/controls",
          "model_name": "HBoxModel",
          "model_module_version": "1.5.0",
          "state": {
            "_dom_classes": [],
            "_model_module": "@jupyter-widgets/controls",
            "_model_module_version": "1.5.0",
            "_model_name": "HBoxModel",
            "_view_count": null,
            "_view_module": "@jupyter-widgets/controls",
            "_view_module_version": "1.5.0",
            "_view_name": "HBoxView",
            "box_style": "",
            "children": [
              "IPY_MODEL_2f61fb1319764f6ea46646a87eba2e0a",
              "IPY_MODEL_2088e2b3080a42468e70ff2cbc3b9953",
              "IPY_MODEL_2f188b1f5c9c43b8a4aaf10fe5ea52eb"
            ],
            "layout": "IPY_MODEL_e5c5be52c41243d0b4cf6cf81dc2885d"
          }
        },
        "2f61fb1319764f6ea46646a87eba2e0a": {
          "model_module": "@jupyter-widgets/controls",
          "model_name": "HTMLModel",
          "model_module_version": "1.5.0",
          "state": {
            "_dom_classes": [],
            "_model_module": "@jupyter-widgets/controls",
            "_model_module_version": "1.5.0",
            "_model_name": "HTMLModel",
            "_view_count": null,
            "_view_module": "@jupyter-widgets/controls",
            "_view_module_version": "1.5.0",
            "_view_name": "HTMLView",
            "description": "",
            "description_tooltip": null,
            "layout": "IPY_MODEL_84c0450213a14a10a51e9985f15b793d",
            "placeholder": "​",
            "style": "IPY_MODEL_e79af981d2d44ab7b760c0515cbf169c",
            "value": "generation_config.json: 100%"
          }
        },
        "2088e2b3080a42468e70ff2cbc3b9953": {
          "model_module": "@jupyter-widgets/controls",
          "model_name": "FloatProgressModel",
          "model_module_version": "1.5.0",
          "state": {
            "_dom_classes": [],
            "_model_module": "@jupyter-widgets/controls",
            "_model_module_version": "1.5.0",
            "_model_name": "FloatProgressModel",
            "_view_count": null,
            "_view_module": "@jupyter-widgets/controls",
            "_view_module_version": "1.5.0",
            "_view_name": "ProgressView",
            "bar_style": "success",
            "description": "",
            "description_tooltip": null,
            "layout": "IPY_MODEL_9dc2614a897b4982ad9060046d5a871e",
            "max": 116,
            "min": 0,
            "orientation": "horizontal",
            "style": "IPY_MODEL_0f947d08b8d4407b97acf7b5ca774fe7",
            "value": 116
          }
        },
        "2f188b1f5c9c43b8a4aaf10fe5ea52eb": {
          "model_module": "@jupyter-widgets/controls",
          "model_name": "HTMLModel",
          "model_module_version": "1.5.0",
          "state": {
            "_dom_classes": [],
            "_model_module": "@jupyter-widgets/controls",
            "_model_module_version": "1.5.0",
            "_model_name": "HTMLModel",
            "_view_count": null,
            "_view_module": "@jupyter-widgets/controls",
            "_view_module_version": "1.5.0",
            "_view_name": "HTMLView",
            "description": "",
            "description_tooltip": null,
            "layout": "IPY_MODEL_8dd543a201b64e4aae8574b7ea3b57d6",
            "placeholder": "​",
            "style": "IPY_MODEL_2959dc8e048f45c3821e25ae05232ac8",
            "value": " 116/116 [00:00&lt;00:00, 10.4kB/s]"
          }
        },
        "e5c5be52c41243d0b4cf6cf81dc2885d": {
          "model_module": "@jupyter-widgets/base",
          "model_name": "LayoutModel",
          "model_module_version": "1.2.0",
          "state": {
            "_model_module": "@jupyter-widgets/base",
            "_model_module_version": "1.2.0",
            "_model_name": "LayoutModel",
            "_view_count": null,
            "_view_module": "@jupyter-widgets/base",
            "_view_module_version": "1.2.0",
            "_view_name": "LayoutView",
            "align_content": null,
            "align_items": null,
            "align_self": null,
            "border": null,
            "bottom": null,
            "display": null,
            "flex": null,
            "flex_flow": null,
            "grid_area": null,
            "grid_auto_columns": null,
            "grid_auto_flow": null,
            "grid_auto_rows": null,
            "grid_column": null,
            "grid_gap": null,
            "grid_row": null,
            "grid_template_areas": null,
            "grid_template_columns": null,
            "grid_template_rows": null,
            "height": null,
            "justify_content": null,
            "justify_items": null,
            "left": null,
            "margin": null,
            "max_height": null,
            "max_width": null,
            "min_height": null,
            "min_width": null,
            "object_fit": null,
            "object_position": null,
            "order": null,
            "overflow": null,
            "overflow_x": null,
            "overflow_y": null,
            "padding": null,
            "right": null,
            "top": null,
            "visibility": null,
            "width": null
          }
        },
        "84c0450213a14a10a51e9985f15b793d": {
          "model_module": "@jupyter-widgets/base",
          "model_name": "LayoutModel",
          "model_module_version": "1.2.0",
          "state": {
            "_model_module": "@jupyter-widgets/base",
            "_model_module_version": "1.2.0",
            "_model_name": "LayoutModel",
            "_view_count": null,
            "_view_module": "@jupyter-widgets/base",
            "_view_module_version": "1.2.0",
            "_view_name": "LayoutView",
            "align_content": null,
            "align_items": null,
            "align_self": null,
            "border": null,
            "bottom": null,
            "display": null,
            "flex": null,
            "flex_flow": null,
            "grid_area": null,
            "grid_auto_columns": null,
            "grid_auto_flow": null,
            "grid_auto_rows": null,
            "grid_column": null,
            "grid_gap": null,
            "grid_row": null,
            "grid_template_areas": null,
            "grid_template_columns": null,
            "grid_template_rows": null,
            "height": null,
            "justify_content": null,
            "justify_items": null,
            "left": null,
            "margin": null,
            "max_height": null,
            "max_width": null,
            "min_height": null,
            "min_width": null,
            "object_fit": null,
            "object_position": null,
            "order": null,
            "overflow": null,
            "overflow_x": null,
            "overflow_y": null,
            "padding": null,
            "right": null,
            "top": null,
            "visibility": null,
            "width": null
          }
        },
        "e79af981d2d44ab7b760c0515cbf169c": {
          "model_module": "@jupyter-widgets/controls",
          "model_name": "DescriptionStyleModel",
          "model_module_version": "1.5.0",
          "state": {
            "_model_module": "@jupyter-widgets/controls",
            "_model_module_version": "1.5.0",
            "_model_name": "DescriptionStyleModel",
            "_view_count": null,
            "_view_module": "@jupyter-widgets/base",
            "_view_module_version": "1.2.0",
            "_view_name": "StyleView",
            "description_width": ""
          }
        },
        "9dc2614a897b4982ad9060046d5a871e": {
          "model_module": "@jupyter-widgets/base",
          "model_name": "LayoutModel",
          "model_module_version": "1.2.0",
          "state": {
            "_model_module": "@jupyter-widgets/base",
            "_model_module_version": "1.2.0",
            "_model_name": "LayoutModel",
            "_view_count": null,
            "_view_module": "@jupyter-widgets/base",
            "_view_module_version": "1.2.0",
            "_view_name": "LayoutView",
            "align_content": null,
            "align_items": null,
            "align_self": null,
            "border": null,
            "bottom": null,
            "display": null,
            "flex": null,
            "flex_flow": null,
            "grid_area": null,
            "grid_auto_columns": null,
            "grid_auto_flow": null,
            "grid_auto_rows": null,
            "grid_column": null,
            "grid_gap": null,
            "grid_row": null,
            "grid_template_areas": null,
            "grid_template_columns": null,
            "grid_template_rows": null,
            "height": null,
            "justify_content": null,
            "justify_items": null,
            "left": null,
            "margin": null,
            "max_height": null,
            "max_width": null,
            "min_height": null,
            "min_width": null,
            "object_fit": null,
            "object_position": null,
            "order": null,
            "overflow": null,
            "overflow_x": null,
            "overflow_y": null,
            "padding": null,
            "right": null,
            "top": null,
            "visibility": null,
            "width": null
          }
        },
        "0f947d08b8d4407b97acf7b5ca774fe7": {
          "model_module": "@jupyter-widgets/controls",
          "model_name": "ProgressStyleModel",
          "model_module_version": "1.5.0",
          "state": {
            "_model_module": "@jupyter-widgets/controls",
            "_model_module_version": "1.5.0",
            "_model_name": "ProgressStyleModel",
            "_view_count": null,
            "_view_module": "@jupyter-widgets/base",
            "_view_module_version": "1.2.0",
            "_view_name": "StyleView",
            "bar_color": null,
            "description_width": ""
          }
        },
        "8dd543a201b64e4aae8574b7ea3b57d6": {
          "model_module": "@jupyter-widgets/base",
          "model_name": "LayoutModel",
          "model_module_version": "1.2.0",
          "state": {
            "_model_module": "@jupyter-widgets/base",
            "_model_module_version": "1.2.0",
            "_model_name": "LayoutModel",
            "_view_count": null,
            "_view_module": "@jupyter-widgets/base",
            "_view_module_version": "1.2.0",
            "_view_name": "LayoutView",
            "align_content": null,
            "align_items": null,
            "align_self": null,
            "border": null,
            "bottom": null,
            "display": null,
            "flex": null,
            "flex_flow": null,
            "grid_area": null,
            "grid_auto_columns": null,
            "grid_auto_flow": null,
            "grid_auto_rows": null,
            "grid_column": null,
            "grid_gap": null,
            "grid_row": null,
            "grid_template_areas": null,
            "grid_template_columns": null,
            "grid_template_rows": null,
            "height": null,
            "justify_content": null,
            "justify_items": null,
            "left": null,
            "margin": null,
            "max_height": null,
            "max_width": null,
            "min_height": null,
            "min_width": null,
            "object_fit": null,
            "object_position": null,
            "order": null,
            "overflow": null,
            "overflow_x": null,
            "overflow_y": null,
            "padding": null,
            "right": null,
            "top": null,
            "visibility": null,
            "width": null
          }
        },
        "2959dc8e048f45c3821e25ae05232ac8": {
          "model_module": "@jupyter-widgets/controls",
          "model_name": "DescriptionStyleModel",
          "model_module_version": "1.5.0",
          "state": {
            "_model_module": "@jupyter-widgets/controls",
            "_model_module_version": "1.5.0",
            "_model_name": "DescriptionStyleModel",
            "_view_count": null,
            "_view_module": "@jupyter-widgets/base",
            "_view_module_version": "1.2.0",
            "_view_name": "StyleView",
            "description_width": ""
          }
        }
      }
    }
  },
  "nbformat": 4,
  "nbformat_minor": 0
}