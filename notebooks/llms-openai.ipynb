{
  "cells": [
    {
      "cell_type": "markdown",
      "metadata": {
        "id": "view-in-github",
        "colab_type": "text"
      },
      "source": [
        "<a href=\"https://colab.research.google.com/github/DJCordhose/transformers/blob/main/notebooks/llms-openai.ipynb\" target=\"_parent\"><img src=\"https://colab.research.google.com/assets/colab-badge.svg\" alt=\"Open In Colab\"/></a>"
      ]
    },
    {
      "cell_type": "markdown",
      "id": "912d7d82",
      "metadata": {
        "id": "912d7d82"
      },
      "source": [
        "# LLMS - OpenAI GPT API\n",
        "\n",
        "\n",
        "* zum Ausführen ist ein OpenAI-Account notwendig: https://platform.openai.com/signup\n",
        "* hier https://platform.openai.com/api-keys den eigenen Key erzeugen und eintragen\n",
        "* Kosten\n",
        "  * https://openai.com/pricing\n",
        "  * https://platform.openai.com/usage\n",
        "* Installation und Quickstart: https://platform.openai.com/docs/quickstart?context=python  "
      ]
    },
    {
      "cell_type": "code",
      "execution_count": 5,
      "id": "BhKtZIx7BC8S",
      "metadata": {
        "colab": {
          "base_uri": "https://localhost:8080/"
        },
        "id": "BhKtZIx7BC8S",
        "outputId": "04062689-f282-47b1-e594-cf9104f84471"
      },
      "outputs": [
        {
          "output_type": "execute_result",
          "data": {
            "text/plain": [
              "True"
            ]
          },
          "metadata": {},
          "execution_count": 5
        }
      ],
      "source": [
        "import sys\n",
        "IN_COLAB = 'google.colab' in sys.modules # True if running in Google Colab.\n",
        "IN_COLAB"
      ]
    },
    {
      "cell_type": "code",
      "execution_count": 6,
      "metadata": {
        "id": "NnkgKmBYxFhH"
      },
      "outputs": [],
      "source": [
        "if IN_COLAB:\n",
        "    !pip install -q openai tiktoken\n",
        "    !pip install -q umap-learn"
      ],
      "id": "NnkgKmBYxFhH"
    },
    {
      "cell_type": "markdown",
      "metadata": {
        "id": "bha4IwxTxFhH"
      },
      "source": [
        "# Tokenizer\n",
        "\n",
        "* Tokenizer zerlegen Texte in Zahlen\n",
        "* diese Zahlen korrespondieren mit Token\n",
        "* Token könnten ganze Worte, Wortteile, Ziffern, Sonderzeichen oder Satzzeiten sein\n",
        "\n",
        "Links\n",
        "* https://github.com/openai/tiktoken\n",
        "* https://platform.openai.com/tokenizer"
      ],
      "id": "bha4IwxTxFhH"
    },
    {
      "cell_type": "code",
      "execution_count": 7,
      "metadata": {
        "id": "xVppMHZdxFhH",
        "outputId": "2ee1b4d2-6a57-4eac-c4b4-3454e5698e9d",
        "colab": {
          "base_uri": "https://localhost:8080/"
        }
      },
      "outputs": [
        {
          "output_type": "execute_result",
          "data": {
            "text/plain": [
              "[79178, 11, 46066, 0, 15]"
            ]
          },
          "metadata": {},
          "execution_count": 7
        }
      ],
      "source": [
        "import tiktoken\n",
        "\n",
        "# Dies ist der Tokenizer für GPT-4:\n",
        "enc = tiktoken.encoding_for_model(\"gpt-4\")\n",
        "assert enc.decode(enc.encode(\"Hallo, Welt\")) == \"Hallo, Welt\"\n",
        "enc.encode(\"Hallo, Welt!0\")"
      ],
      "id": "xVppMHZdxFhH"
    },
    {
      "cell_type": "markdown",
      "metadata": {
        "id": "iNr6IVnwxFhI"
      },
      "source": [
        "# OpenAI Client"
      ],
      "id": "iNr6IVnwxFhI"
    },
    {
      "cell_type": "code",
      "execution_count": 8,
      "metadata": {
        "id": "LIhBdwOXxFhI"
      },
      "outputs": [],
      "source": [
        "# TODO: hier https://platform.openai.com/api-keys den eigenen Key erzeugen und eintragen\n",
        "OPENAI_API_KEY = '...'\n",
        "\n",
        "assert OPENAI_API_KEY != '...', \"Bitte tragen Sie Ihren OpenAI API Key ein!\""
      ],
      "id": "LIhBdwOXxFhI"
    },
    {
      "cell_type": "code",
      "execution_count": 9,
      "metadata": {
        "id": "IS-E6uzlxFhI"
      },
      "outputs": [],
      "source": [
        "from openai import OpenAI\n",
        "\n",
        "client = OpenAI(\n",
        "  api_key=OPENAI_API_KEY\n",
        ")\n",
        "models = client.models.list()"
      ],
      "id": "IS-E6uzlxFhI"
    },
    {
      "cell_type": "code",
      "execution_count": 10,
      "metadata": {
        "id": "iqPajWTjxFhI",
        "outputId": "19a62ec0-c188-4f6c-c7b8-5945669a0a85",
        "colab": {
          "base_uri": "https://localhost:8080/"
        }
      },
      "outputs": [
        {
          "output_type": "execute_result",
          "data": {
            "text/plain": [
              "{'openai', 'openai-internal', 'system'}"
            ]
          },
          "metadata": {},
          "execution_count": 10
        }
      ],
      "source": [
        "set([model.owned_by for model in models])"
      ],
      "id": "iqPajWTjxFhI"
    },
    {
      "cell_type": "code",
      "execution_count": 11,
      "metadata": {
        "id": "LlX1o2bkxFhJ",
        "outputId": "6a53ce23-2a27-4d70-8a3b-4743982d6fd5",
        "colab": {
          "base_uri": "https://localhost:8080/"
        }
      },
      "outputs": [
        {
          "output_type": "execute_result",
          "data": {
            "text/plain": [
              "{'gpt-3.5-turbo',\n",
              " 'gpt-3.5-turbo-0301',\n",
              " 'gpt-3.5-turbo-0613',\n",
              " 'gpt-3.5-turbo-16k-0613',\n",
              " 'gpt-4',\n",
              " 'gpt-4-0613'}"
            ]
          },
          "metadata": {},
          "execution_count": 11
        }
      ],
      "source": [
        "set([model.id for model in models if model.owned_by == 'openai'])"
      ],
      "id": "LlX1o2bkxFhJ"
    },
    {
      "cell_type": "code",
      "execution_count": 12,
      "metadata": {
        "id": "jp397w5UxFhJ",
        "outputId": "d691bee5-bb16-42cf-b13b-1d371048bc55",
        "colab": {
          "base_uri": "https://localhost:8080/",
          "height": 52
        }
      },
      "outputs": [
        {
          "output_type": "execute_result",
          "data": {
            "text/plain": [
              "'Große Sprachmodelle sind so mächtig, weil sie über riesige Datensätze verfügen und komplexe Muster in natürlicher Sprache erfassen und generieren können. Dies wird durch die Vielzahl an Trainingsdaten und die Fähigkeit des Modells, kontextbezogene Informationen zu nutzen, ermöglicht.'"
            ],
            "application/vnd.google.colaboratory.intrinsic+json": {
              "type": "string"
            }
          },
          "metadata": {},
          "execution_count": 12
        }
      ],
      "source": [
        "# https://platform.openai.com/docs/api-reference/chat/create\n",
        "completion = client.chat.completions.create(\n",
        "  model=\"gpt-3.5-turbo\",\n",
        "  messages=[\n",
        "    {\"role\": \"system\", \"content\": \"Du bist ein Experte im Bereich Machine Learning. Deine Antworten sind kurz und gut.\"},\n",
        "    {\"role\": \"user\", \"content\": \"Warum sind große Sprachmodelle so mächtig?\"},\n",
        "  ],\n",
        "  logprobs=True,\n",
        "  top_logprobs=3\n",
        ")\n",
        "completion.choices[0].message.content"
      ],
      "id": "jp397w5UxFhJ"
    },
    {
      "cell_type": "code",
      "source": [
        "# for token in completion.choices[0].logprobs.content:\n",
        "#   print(\"---\")\n",
        "#   print(token.token)\n",
        "#   for top_token in token.top_logprobs:\n",
        "#     print(f\"{top_token.token}: {top_token.logprob}\")"
      ],
      "metadata": {
        "id": "w-zEFMNV0ux2"
      },
      "id": "w-zEFMNV0ux2",
      "execution_count": 13,
      "outputs": []
    },
    {
      "cell_type": "markdown",
      "metadata": {
        "id": "bvxM3JP6xFhJ"
      },
      "source": [
        "# Embeddings\n",
        "\n",
        "Einführung\n",
        "* https://qdrant.tech/documentation/concepts/search/\n",
        "* https://openai.com/blog/new-embedding-models-and-api-updates\n",
        "\n",
        "Links\n",
        "* https://openai.com/blog/introducing-text-and-code-embeddings\n",
        "* https://platform.openai.com/docs/guides/embeddings\n",
        "* https://platform.openai.com/docs/quickstart?context=python&lang=Embeddings\n",
        "* https://platform.openai.com/docs/guides/embeddings/what-are-embeddings\n",
        "\n"
      ],
      "id": "bvxM3JP6xFhJ"
    },
    {
      "cell_type": "code",
      "execution_count": 26,
      "metadata": {
        "id": "_4GmcIEjxFhK",
        "outputId": "e7e370d3-f540-452f-80a4-5889a2ed18fa",
        "colab": {
          "base_uri": "https://localhost:8080/"
        }
      },
      "outputs": [
        {
          "output_type": "execute_result",
          "data": {
            "text/plain": [
              "(8, 3072)"
            ]
          },
          "metadata": {},
          "execution_count": 26
        }
      ],
      "source": [
        "import numpy as np\n",
        "\n",
        "texts=[\n",
        "    \"Das Essen war toll und die Bedienung war super!\",\n",
        "    \"Uns hat das Restaurant sehr gefallen, sowohl die Speisen als auch der Service!\",\n",
        "    \"Was für ein übles Erlebnis, meine Nudeln waren viel zu weich und es hat ewig gedauert, bis wir unser bedient wurden.\",\n",
        "    \"Top Restaurant\",\n",
        "    \"Elendiger Fraß\",\n",
        "    \"Ich hatte nach dem Essen Salmonellen\",\n",
        "    \"Hunde mögen gern Knochen.\",\n",
        "    \"Katzen lieben Wollknäuel\",\n",
        "]\n",
        "\n",
        "response = client.embeddings.create(\n",
        "    # https://openai.com/blog/new-embedding-models-and-api-updates\n",
        "  # model=\"text-embedding-ada-002\",  # Klassiker\n",
        "  model=\"text-embedding-3-small\",  # Das Neue in klein\n",
        "  # model=\"text-embedding-3-large\",  # Das Neue in groß\n",
        "  input=texts\n",
        ")\n",
        "\n",
        "embeddings = np.array([embedding.embedding for embedding in response.data])\n",
        "embeddings.shape"
      ],
      "id": "_4GmcIEjxFhK"
    },
    {
      "cell_type": "markdown",
      "source": [
        "### Ähnlichkeit und Nähe von Embeddings\n",
        "\n",
        "https://qdrant.tech/documentation/concepts/search/"
      ],
      "metadata": {
        "id": "d0IvBtq47Zpz"
      },
      "id": "d0IvBtq47Zpz"
    },
    {
      "cell_type": "code",
      "execution_count": 27,
      "metadata": {
        "id": "jRHIkChNxFhK",
        "outputId": "66883886-8104-4252-e975-999611e811d0",
        "colab": {
          "base_uri": "https://localhost:8080/"
        }
      },
      "outputs": [
        {
          "output_type": "execute_result",
          "data": {
            "text/plain": [
              "array([[1.  , 0.7 , 0.51, 0.35, 0.28, 0.34, 0.3 , 0.21],\n",
              "       [0.7 , 1.  , 0.47, 0.41, 0.26, 0.29, 0.29, 0.19],\n",
              "       [0.51, 0.47, 1.  , 0.24, 0.41, 0.42, 0.26, 0.19],\n",
              "       [0.35, 0.41, 0.24, 1.  , 0.18, 0.18, 0.09, 0.04],\n",
              "       [0.28, 0.26, 0.41, 0.18, 1.  , 0.37, 0.32, 0.26],\n",
              "       [0.34, 0.29, 0.42, 0.18, 0.37, 1.  , 0.25, 0.17],\n",
              "       [0.3 , 0.29, 0.26, 0.09, 0.32, 0.25, 1.  , 0.46],\n",
              "       [0.21, 0.19, 0.19, 0.04, 0.26, 0.17, 0.46, 1.  ]])"
            ]
          },
          "metadata": {},
          "execution_count": 27
        }
      ],
      "source": [
        "from sklearn.metrics.pairwise import cosine_similarity\n",
        "\n",
        "cos_sim_matrix = cosine_similarity(embeddings)\n",
        "cos_sim_matrix = np.round(cos_sim_matrix, 2)\n",
        "cos_sim_matrix"
      ],
      "id": "jRHIkChNxFhK"
    },
    {
      "cell_type": "code",
      "execution_count": 28,
      "metadata": {
        "id": "fATk5G8yxFhK",
        "outputId": "e853f2ac-fc0b-4345-82d0-aa458c36c930",
        "colab": {
          "base_uri": "https://localhost:8080/",
          "height": 671
        }
      },
      "outputs": [
        {
          "output_type": "display_data",
          "data": {
            "text/plain": [
              "<Figure size 1000x600 with 1 Axes>"
            ],
            "image/png": "[encoded data removed]"
          },
          "metadata": {}
        }
      ],
      "source": [
        "import matplotlib.pyplot as plt\n",
        "\n",
        "# from sklearn.manifold import TSNE\n",
        "# tsne = TSNE(n_components=2, random_state=42, perplexity=3)\n",
        "# reduced_embeddings = tsne.fit_transform(embeddings)\n",
        "\n",
        "# from umap import UMAP\n",
        "# umap = UMAP(n_components=2, random_state=42, n_neighbors=3)\n",
        "# reduced_embeddings = umap.fit_transform(embeddings)\n",
        "\n",
        "# macht als einziges Sinn bei so wenigen Beispielen\n",
        "from sklearn.decomposition import PCA\n",
        "pca = PCA(n_components=2, random_state=42)\n",
        "reduced_embeddings = pca.fit_transform(embeddings)\n",
        "\n",
        "plt.figure(figsize=(10, 6))\n",
        "for i, label in enumerate(texts):\n",
        "    x, y = reduced_embeddings[i, :]\n",
        "    plt.scatter(x, y)\n",
        "    plt.annotate(label, (x, y), textcoords=\"offset points\", xytext=(0,10), ha='center')\n",
        "\n",
        "plt.xticks([])\n",
        "plt.yticks([])\n",
        "plt.gca().spines['right'].set_visible(False)\n",
        "plt.gca().spines['top'].set_visible(False)\n",
        "plt.gca().spines['left'].set_visible(False)\n",
        "plt.gca().spines['bottom'].set_visible(False)\n",
        "\n",
        "# plt.xlabel('1. Hauptkomponente')\n",
        "# plt.ylabel('2. Hauptkomponente')\n",
        "\n",
        "# add space between title and plot\n",
        "plt.subplots_adjust(top=1.5)\n",
        "\n",
        "plt.title('2D Darstellung der Text-Embeddings', fontsize=16)\n",
        "\n",
        "# compress distance between points\n",
        "plt.gca().set_aspect('equal', 'box')\n",
        "\n",
        "\n",
        "plt.show();"
      ],
      "id": "fATk5G8yxFhK"
    },
    {
      "cell_type": "markdown",
      "metadata": {
        "id": "31SW-xdTxFhK"
      },
      "source": [
        "# Prompt Engineering\n",
        "\n",
        "Das hier ist das Ergebnis von https://platform.openai.com/playground/p/9Fsbs7sYgmiY4mFAHFeR1QX5?mode=chat"
      ],
      "id": "31SW-xdTxFhK"
    },
    {
      "cell_type": "code",
      "execution_count": null,
      "metadata": {
        "id": "NrEsqVXLxFhK",
        "outputId": "87cf9da0-22ea-4537-81ee-9112c21883d3",
        "colab": {
          "base_uri": "https://localhost:8080/",
          "height": 35
        }
      },
      "outputs": [
        {
          "output_type": "execute_result",
          "data": {
            "text/plain": [
              "\"{'sentiment': 0.0}\""
            ],
            "application/vnd.google.colaboratory.intrinsic+json": {
              "type": "string"
            }
          },
          "metadata": {},
          "execution_count": 13
        }
      ],
      "source": [
        "response = client.chat.completions.create(\n",
        "  model=\"gpt-3.5-turbo\",\n",
        "  messages=[\n",
        "    {\n",
        "      \"role\": \"system\",\n",
        "      \"content\": \"Bewerte den eingegebenen Text anhand der ausgedrückten Stimmung mit einem Wert zwischen 0 und 1. 0 für ein negatives Ergebnis, 1 für ein positives. \\n\\nBeispiele:\\nUser: Ich weiß auch nicht so recht.\\nAssistent: {'sentiment': 0.5 }\\n\\nUser: Das ist richtig toll.\\nAssistent: {'sentiment': 1.0 }\\n\\nUser: Ganz schlimm.\\nAssistent: {'sentiment': 0.0 }\\n\\nErzeuge ein JSON, das mit dem key \\\"sentiment\\\" und der Bewertung als value.\"\n",
        "    },\n",
        "    {\n",
        "      \"role\": \"user\",\n",
        "      \"content\": \"Ich bin mit diesem Artikel zufrieden (von wegen)\"\n",
        "    },\n",
        "    {\n",
        "      \"role\": \"assistant\",\n",
        "      \"content\": \"{'sentiment': 0.0}\"\n",
        "    },\n",
        "    {\n",
        "      \"role\": \"user\",\n",
        "      \"content\": \"Ich bin mit diesem Artikel zufrieden\"\n",
        "    },\n",
        "    {\n",
        "      \"role\": \"assistant\",\n",
        "      \"content\": \"{'sentiment': 1.0}\"\n",
        "    },\n",
        "    {\n",
        "      \"role\": \"user\",\n",
        "      \"content\": \"Ich bin mit diesem Artikel zufrieden (zumindest anfänglich)\"\n",
        "    },\n",
        "    {\n",
        "      \"role\": \"assistant\",\n",
        "      \"content\": \"{'sentiment': 0.5}\"\n",
        "    },\n",
        "    {\n",
        "      \"role\": \"user\",\n",
        "      \"content\": \"Was ist das denn für ein Quatsch?\"\n",
        "    }\n",
        "  ],\n",
        "  temperature=1,\n",
        "  max_tokens=256,\n",
        "  top_p=1,\n",
        "  frequency_penalty=0,\n",
        "  presence_penalty=0\n",
        ")\n",
        "response.choices[0].message.content"
      ],
      "id": "NrEsqVXLxFhK"
    },
    {
      "cell_type": "markdown",
      "metadata": {
        "id": "GL8qPyuPoNjZ"
      },
      "source": [
        "# Function Calling\n",
        "\n",
        "* https://platform.openai.com/docs/guides/function-calling\n",
        "* https://cookbook.openai.com/examples/how_to_call_functions_with_chat_models"
      ],
      "id": "GL8qPyuPoNjZ"
    },
    {
      "cell_type": "code",
      "source": [
        "anfrage = \"Was ist das durschschnittliche Gehalt aller Mitarbeiter?\""
      ],
      "metadata": {
        "id": "7r-Wk5jeprYH"
      },
      "id": "7r-Wk5jeprYH",
      "execution_count": null,
      "outputs": []
    },
    {
      "cell_type": "code",
      "execution_count": null,
      "metadata": {
        "id": "ddKiMR1NoNjZ"
      },
      "outputs": [],
      "source": [
        "model=\"gpt-3.5-turbo\"\n",
        "\n",
        "tools = [\n",
        "    {\n",
        "        \"type\": \"function\",\n",
        "        \"function\": {\n",
        "            \"name\": \"list_employee_ids\",\n",
        "            \"description\": \"Enumerate the integer id of all employees\",\n",
        "            \"parameters\": {\n",
        "                \"type\": \"object\",\n",
        "                \"properties\": {\n",
        "                }\n",
        "            },\n",
        "        },\n",
        "    },\n",
        "    {\n",
        "        \"type\": \"function\",\n",
        "        \"function\": {\n",
        "            \"name\": \"get_employee_detail\",\n",
        "            # \"description\": \"Gets the employee's details including salary and job title based on their id\",\n",
        "            \"description\": \"Gets the employee's details\",\n",
        "            \"parameters\": {\n",
        "                \"type\": \"object\",\n",
        "                \"properties\": {\n",
        "                    \"id\": {\n",
        "                        \"type\": \"integer\",\n",
        "                        \"description\": \"The id of the employee like returned by list_employee_ids\",\n",
        "                    }\n",
        "                },\n",
        "                \"required\": [\"id\"],\n",
        "            },\n",
        "        },\n",
        "    }\n",
        "\n",
        "]\n",
        "\n",
        "def user_input(messages, content = None):\n",
        "  if content:\n",
        "    message = {\"role\": \"user\", \"content\": content}\n",
        "    messages.append(message)\n",
        "  response = client.chat.completions.create(\n",
        "      model=model,\n",
        "      messages=messages,\n",
        "      tools=tools,\n",
        "  )\n",
        "  response_message = response.choices[0].message\n",
        "  messages.append(response_message)\n",
        "  return response_message"
      ],
      "id": "ddKiMR1NoNjZ"
    },
    {
      "cell_type": "code",
      "execution_count": null,
      "metadata": {
        "id": "v-IZvqcjoNjZ"
      },
      "outputs": [],
      "source": [
        "employees = [\n",
        "    {\n",
        "        \"name\": \"Oliver Zeigermann\",\n",
        "        \"position\": \"CTO\",\n",
        "        \"salary\": 200_000\n",
        "    },\n",
        "    {\n",
        "        \"name\": \"Chi Nhan Nguyen\",\n",
        "        \"position\": \"CEO\",\n",
        "        \"salary\": 250_000\n",
        "    }\n",
        "]\n",
        "\n",
        "def get_employee_detail(id):\n",
        "  print(id)\n",
        "  if int(id) <= len(employees):\n",
        "    return employees[id -1]\n",
        "  return None\n",
        "\n",
        "def list_employee_ids():\n",
        "  return list(iter(range(1, len(employees) + 1)))"
      ],
      "id": "v-IZvqcjoNjZ"
    },
    {
      "cell_type": "code",
      "execution_count": null,
      "metadata": {
        "id": "VaAz5ADUoNjZ"
      },
      "outputs": [],
      "source": [
        "import json\n",
        "\n",
        "def execute_tool_call(tool_call):\n",
        "    function_name = tool_call.function.name\n",
        "    function_to_call = globals()[function_name]\n",
        "    function_args = json.loads(tool_call.function.arguments)\n",
        "\n",
        "    function_response = function_to_call(**function_args)\n",
        "    print(f\"Calling {function_name} with {function_args}, getting {function_response}\")\n",
        "    return {\n",
        "            \"tool_call_id\": tool_call.id,\n",
        "            \"role\": \"tool\",\n",
        "            \"name\": function_name,\n",
        "            \"content\": json.dumps(function_response),\n",
        "    }\n",
        "\n",
        "def execute_tool_calls(messages, tool_calls):\n",
        "  for tool_call in tool_calls:\n",
        "    message = execute_tool_call(tool_call)\n",
        "    messages.append(message)"
      ],
      "id": "VaAz5ADUoNjZ"
    },
    {
      "cell_type": "code",
      "source": [
        "messages = []\n",
        "response_message = user_input(messages, anfrage)\n",
        "messages"
      ],
      "metadata": {
        "colab": {
          "base_uri": "https://localhost:8080/"
        },
        "id": "fOOM1viKpmT8",
        "outputId": "edc2f06d-f275-4f20-9a13-5fe12d8630c3"
      },
      "id": "fOOM1viKpmT8",
      "execution_count": null,
      "outputs": [
        {
          "output_type": "execute_result",
          "data": {
            "text/plain": [
              "[{'role': 'user',\n",
              "  'content': 'Was ist das durschschnittliche Gehalt aller Mitarbeiter?'},\n",
              " ChatCompletionMessage(content=None, role='assistant', function_call=None, tool_calls=[ChatCompletionMessageToolCall(id='call_QVqSKVG7ywitNqONNbFHmUCJ', function=Function(arguments='{}', name='list_employee_ids'), type='function')])]"
            ]
          },
          "metadata": {},
          "execution_count": 18
        }
      ]
    },
    {
      "cell_type": "code",
      "source": [
        "tool_calls = response_message.tool_calls\n",
        "assert tool_calls"
      ],
      "metadata": {
        "id": "jbA65sR3p6d2"
      },
      "id": "jbA65sR3p6d2",
      "execution_count": null,
      "outputs": []
    },
    {
      "cell_type": "code",
      "execution_count": null,
      "metadata": {
        "id": "4qa6oU6LoNja",
        "outputId": "8e59c38c-6e92-48c1-86f6-804065a41aa7",
        "colab": {
          "base_uri": "https://localhost:8080/"
        }
      },
      "outputs": [
        {
          "output_type": "stream",
          "name": "stdout",
          "text": [
            "Calling list_employee_ids with {}, getting [1, 2]\n"
          ]
        },
        {
          "output_type": "execute_result",
          "data": {
            "text/plain": [
              "[{'role': 'user',\n",
              "  'content': 'Was ist das durschschnittliche Gehalt aller Mitarbeiter?'},\n",
              " ChatCompletionMessage(content=None, role='assistant', function_call=None, tool_calls=[ChatCompletionMessageToolCall(id='call_QVqSKVG7ywitNqONNbFHmUCJ', function=Function(arguments='{}', name='list_employee_ids'), type='function')]),\n",
              " {'tool_call_id': 'call_QVqSKVG7ywitNqONNbFHmUCJ',\n",
              "  'role': 'tool',\n",
              "  'name': 'list_employee_ids',\n",
              "  'content': '[1, 2]'}]"
            ]
          },
          "metadata": {},
          "execution_count": 20
        }
      ],
      "source": [
        "execute_tool_calls(messages, tool_calls)\n",
        "messages"
      ],
      "id": "4qa6oU6LoNja"
    },
    {
      "cell_type": "code",
      "execution_count": null,
      "metadata": {
        "id": "MAr8wbB2oNja",
        "outputId": "689477c3-ef66-4c60-e7c9-6ebe9862a11c",
        "colab": {
          "base_uri": "https://localhost:8080/"
        }
      },
      "outputs": [
        {
          "output_type": "execute_result",
          "data": {
            "text/plain": [
              "ChatCompletionMessage(content=None, role='assistant', function_call=None, tool_calls=[ChatCompletionMessageToolCall(id='call_gh13OioIlNK3w81zyz8sP209', function=Function(arguments='{\"id\": 1}', name='get_employee_detail'), type='function'), ChatCompletionMessageToolCall(id='call_sViXDX7iTO8dYaHsUfYphTGb', function=Function(arguments='{\"id\": 2}', name='get_employee_detail'), type='function')])"
            ]
          },
          "metadata": {},
          "execution_count": 21
        }
      ],
      "source": [
        "response_message = user_input(messages)\n",
        "response_message"
      ],
      "id": "MAr8wbB2oNja"
    },
    {
      "cell_type": "code",
      "execution_count": null,
      "metadata": {
        "id": "FcwFAtIXoNja",
        "outputId": "12094937-07cb-446a-b179-282bb173e282",
        "colab": {
          "base_uri": "https://localhost:8080/"
        }
      },
      "outputs": [
        {
          "output_type": "execute_result",
          "data": {
            "text/plain": [
              "[ChatCompletionMessageToolCall(id='call_gh13OioIlNK3w81zyz8sP209', function=Function(arguments='{\"id\": 1}', name='get_employee_detail'), type='function'),\n",
              " ChatCompletionMessageToolCall(id='call_sViXDX7iTO8dYaHsUfYphTGb', function=Function(arguments='{\"id\": 2}', name='get_employee_detail'), type='function')]"
            ]
          },
          "metadata": {},
          "execution_count": 22
        }
      ],
      "source": [
        "tool_calls = response_message.tool_calls\n",
        "assert tool_calls\n",
        "tool_calls"
      ],
      "id": "FcwFAtIXoNja"
    },
    {
      "cell_type": "code",
      "execution_count": null,
      "metadata": {
        "id": "81vPwMfdoNja",
        "outputId": "dffb0625-0ad4-428d-dc31-56f58a2b91b3",
        "colab": {
          "base_uri": "https://localhost:8080/"
        }
      },
      "outputs": [
        {
          "output_type": "stream",
          "name": "stdout",
          "text": [
            "1\n",
            "Calling get_employee_detail with {'id': 1}, getting {'name': 'Oliver Zeigermann', 'position': 'CTO', 'salary': 200000}\n",
            "2\n",
            "Calling get_employee_detail with {'id': 2}, getting {'name': 'Chi Nhan Nguyen', 'position': 'CEO', 'salary': 250000}\n"
          ]
        },
        {
          "output_type": "execute_result",
          "data": {
            "text/plain": [
              "[{'role': 'user',\n",
              "  'content': 'Was ist das durschschnittliche Gehalt aller Mitarbeiter?'},\n",
              " ChatCompletionMessage(content=None, role='assistant', function_call=None, tool_calls=[ChatCompletionMessageToolCall(id='call_QVqSKVG7ywitNqONNbFHmUCJ', function=Function(arguments='{}', name='list_employee_ids'), type='function')]),\n",
              " {'tool_call_id': 'call_QVqSKVG7ywitNqONNbFHmUCJ',\n",
              "  'role': 'tool',\n",
              "  'name': 'list_employee_ids',\n",
              "  'content': '[1, 2]'},\n",
              " ChatCompletionMessage(content=None, role='assistant', function_call=None, tool_calls=[ChatCompletionMessageToolCall(id='call_gh13OioIlNK3w81zyz8sP209', function=Function(arguments='{\"id\": 1}', name='get_employee_detail'), type='function'), ChatCompletionMessageToolCall(id='call_sViXDX7iTO8dYaHsUfYphTGb', function=Function(arguments='{\"id\": 2}', name='get_employee_detail'), type='function')]),\n",
              " {'tool_call_id': 'call_gh13OioIlNK3w81zyz8sP209',\n",
              "  'role': 'tool',\n",
              "  'name': 'get_employee_detail',\n",
              "  'content': '{\"name\": \"Oliver Zeigermann\", \"position\": \"CTO\", \"salary\": 200000}'},\n",
              " {'tool_call_id': 'call_sViXDX7iTO8dYaHsUfYphTGb',\n",
              "  'role': 'tool',\n",
              "  'name': 'get_employee_detail',\n",
              "  'content': '{\"name\": \"Chi Nhan Nguyen\", \"position\": \"CEO\", \"salary\": 250000}'}]"
            ]
          },
          "metadata": {},
          "execution_count": 23
        }
      ],
      "source": [
        "execute_tool_calls(messages, tool_calls)\n",
        "messages"
      ],
      "id": "81vPwMfdoNja"
    },
    {
      "cell_type": "code",
      "execution_count": null,
      "metadata": {
        "id": "xH4rvuBIoNjb",
        "outputId": "e599f2a6-ff28-40c6-bed0-df4f742d3a58",
        "colab": {
          "base_uri": "https://localhost:8080/",
          "height": 35
        }
      },
      "outputs": [
        {
          "output_type": "execute_result",
          "data": {
            "text/plain": [
              "'Das durchschnittliche Gehalt aller Mitarbeiter beträgt \\\\(225,000\\\\)€.'"
            ],
            "application/vnd.google.colaboratory.intrinsic+json": {
              "type": "string"
            }
          },
          "metadata": {},
          "execution_count": 24
        }
      ],
      "source": [
        "response_message = user_input(messages)\n",
        "antwort = response_message.content\n",
        "antwort"
      ],
      "id": "xH4rvuBIoNjb"
    },
    {
      "cell_type": "code",
      "source": [],
      "metadata": {
        "id": "OpfuVgTuqUYm"
      },
      "id": "OpfuVgTuqUYm",
      "execution_count": null,
      "outputs": []
    }
  ],
  "metadata": {
    "colab": {
      "provenance": [],
      "toc_visible": true,
      "include_colab_link": true
    },
    "kernelspec": {
      "display_name": "Python 3",
      "language": "python",
      "name": "python3"
    },
    "language_info": {
      "codemirror_mode": {
        "name": "ipython",
        "version": 3
      },
      "file_extension": ".py",
      "mimetype": "text/x-python",
      "name": "python",
      "nbconvert_exporter": "python",
      "pygments_lexer": "ipython3",
      "version": "3.9.18"
    }
  },
  "nbformat": 4,
  "nbformat_minor": 5
}