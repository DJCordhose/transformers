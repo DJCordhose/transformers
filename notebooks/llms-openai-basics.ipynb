{
  "cells": [
    {
      "cell_type": "markdown",
      "metadata": {
        "id": "view-in-github",
        "colab_type": "text"
      },
      "source": [
        "<a href=\"https://colab.research.google.com/github/DJCordhose/transformers/blob/main/notebooks/llms-openai-basics.ipynb\" target=\"_parent\"><img src=\"https://colab.research.google.com/assets/colab-badge.svg\" alt=\"Open In Colab\"/></a>"
      ]
    },
    {
      "cell_type": "markdown",
      "id": "912d7d82",
      "metadata": {
        "id": "912d7d82"
      },
      "source": [
        "# LLMS - OpenAI GPT API Basics\n"
      ]
    },
    {
      "cell_type": "code",
      "execution_count": 13,
      "id": "BhKtZIx7BC8S",
      "metadata": {fke
        "colab": {
          "base_uri": "https://localhost:8080/"
        },
        "id": "BhKtZIx7BC8S",
        "outputId": "6b792553-1dad-40fe-f0e0-4eafad51e785"
      },
      "outputs": [
        {
          "output_type": "execute_result",
          "data": {
            "text/plain": [
              "True"
            ]
          },
          "metadata": {},
          "execution_count": 13
        }
      ],
      "source": [
        "import sys\n",
        "IN_COLAB = 'google.colab' in sys.modules # True if running in Google Colab.\n",
        "IN_COLAB"
      ]
    },
    {
      "cell_type": "code",
      "execution_count": 14,
      "metadata": {
        "id": "NnkgKmBYxFhH"
      },
      "outputs": [],
      "source": [
        "if IN_COLAB:\n",
        "    !pip install -q openai tiktoken"
      ],
      "id": "NnkgKmBYxFhH"
    },
    {
      "cell_type": "markdown",
      "metadata": {
        "id": "bha4IwxTxFhH"
      },
      "source": [
        "# Tokenizer\n",
        "\n",
        "* Tokenizer zerlegen Texte in Zahlen\n",
        "* diese Zahlen korrespondieren mit Token\n",
        "* Token könnten ganze Worte, Wortteile, Ziffern, Sonderzeichen oder Satzzeiten sein\n",
        "\n",
        "Links\n",
        "* https://github.com/openai/tiktoken\n",
        "* https://platform.openai.com/tokenizer"
      ],
      "id": "bha4IwxTxFhH"
    },
    {
      "cell_type": "code",
      "execution_count": 15,
      "metadata": {
        "id": "xVppMHZdxFhH",
        "outputId": "619a5c9e-4a39-4fc5-a59e-29afe1254930",
        "colab": {
          "base_uri": "https://localhost:8080/"
        }
      },
      "outputs": [
        {
          "output_type": "execute_result",
          "data": {
            "text/plain": [
              "[79178, 11, 46066, 0, 15]"
            ]
          },
          "metadata": {},
          "execution_count": 15
        }
      ],
      "source": [
        "import tiktoken\n",
        "\n",
        "# Dies ist der Tokenizer für GPT-4:\n",
        "enc = tiktoken.encoding_for_model(\"gpt-4\")\n",
        "assert enc.decode(enc.encode(\"Hallo, Welt\")) == \"Hallo, Welt\"\n",
        "enc.encode(\"Hallo, Welt!0\")"
      ],
      "id": "xVppMHZdxFhH"
    },
    {
      "cell_type": "markdown",
      "metadata": {
        "id": "iNr6IVnwxFhI"
      },
      "source": [
        "# OpenAI Client"
      ],
      "id": "iNr6IVnwxFhI"
    },
    {
      "cell_type": "code",
      "execution_count": 16,
      "metadata": {
        "id": "LIhBdwOXxFhI"
      },
      "outputs": [],
      "source": [
        "# TODO: den Key eintragen\n",
        "OPENAI_API_KEY = '...'\n",
        "\n",
        "assert OPENAI_API_KEY != '...', \"Bitte tragen Sie Ihren OpenAI API Key ein!\""
      ],
      "id": "LIhBdwOXxFhI"
    },
    {
      "cell_type": "code",
      "execution_count": 17,
      "metadata": {
        "id": "IS-E6uzlxFhI"
      },
      "outputs": [],
      "source": [
        "from openai import OpenAI\n",
        "\n",
        "client = OpenAI(\n",
        "  api_key=OPENAI_API_KEY\n",
        ")\n",
        "models = client.models.list()"
      ],
      "id": "IS-E6uzlxFhI"
    },
    {
      "cell_type": "code",
      "execution_count": 18,
      "metadata": {
        "id": "iqPajWTjxFhI",
        "outputId": "c61f8901-3176-4338-a937-5e9bd56f64c8",
        "colab": {
          "base_uri": "https://localhost:8080/"
        }
      },
      "outputs": [
        {
          "output_type": "execute_result",
          "data": {
            "text/plain": [
              "{'openai', 'openai-internal', 'system'}"
            ]
          },
          "metadata": {},
          "execution_count": 18
        }
      ],
      "source": [
        "set([model.owned_by for model in models])"
      ],
      "id": "iqPajWTjxFhI"
    },
    {
      "cell_type": "code",
      "execution_count": 19,
      "metadata": {
        "id": "LlX1o2bkxFhJ",
        "outputId": "e228e797-a91c-4e8a-a62c-6c3b2d4f7804",
        "colab": {
          "base_uri": "https://localhost:8080/"
        }
      },
      "outputs": [
        {
          "output_type": "execute_result",
          "data": {
            "text/plain": [
              "{'gpt-3.5-turbo',\n",
              " 'gpt-3.5-turbo-0301',\n",
              " 'gpt-3.5-turbo-0613',\n",
              " 'gpt-3.5-turbo-16k-0613',\n",
              " 'gpt-4',\n",
              " 'gpt-4-0613'}"
            ]
          },
          "metadata": {},
          "execution_count": 19
        }
      ],
      "source": [
        "set([model.id for model in models if model.owned_by == 'openai'])"
      ],
      "id": "LlX1o2bkxFhJ"
    },
    {
      "cell_type": "code",
      "execution_count": 20,
      "metadata": {
        "id": "jp397w5UxFhJ",
        "outputId": "1d37f561-f8a2-4acb-ded5-754ae9187a61",
        "colab": {
          "base_uri": "https://localhost:8080/",
          "height": 53
        }
      },
      "outputs": [
        {
          "output_type": "execute_result",
          "data": {
            "text/plain": [
              "'Große Sprachmodelle sind mächtig, weil sie auf riesigen Datensätzen trainiert werden können und dadurch ein tiefes Verständnis von Sprache entwickeln können. Sie können komplexe Muster und Beziehungen in Daten erkennen und somit präzise Vorhersagen und Analysen durchführen.'"
            ],
            "application/vnd.google.colaboratory.intrinsic+json": {
              "type": "string"
            }
          },
          "metadata": {},
          "execution_count": 20
        }
      ],
      "source": [
        "# https://platform.openai.com/docs/api-reference/chat/create\n",
        "completion = client.chat.completions.create(\n",
        "  model=\"gpt-3.5-turbo\",\n",
        "  messages=[\n",
        "    {\"role\": \"system\", \"content\": \"Du bist ein Experte im Bereich Machine Learning. Deine Antworten sind kurz und gut.\"},\n",
        "    {\"role\": \"user\", \"content\": \"Warum sind große Sprachmodelle so mächtig?\"},\n",
        "  ],\n",
        "  logprobs=True,\n",
        "  top_logprobs=3\n",
        ")\n",
        "completion.choices[0].message.content"
      ],
      "id": "jp397w5UxFhJ"
    },
    {
      "cell_type": "code",
      "source": [
        "for token in completion.choices[0].logprobs.content:\n",
        "  print(\"---\")\n",
        "  print(token.token)\n",
        "  for top_token in token.top_logprobs:\n",
        "    print(f\"{top_token.token}: {top_token.logprob}\")"
      ],
      "metadata": {
        "id": "w-zEFMNV0ux2",
        "outputId": "979fd4c0-2641-4bcc-971b-cb054160f3e3",
        "colab": {
          "base_uri": "https://localhost:8080/"
        }
      },
      "id": "w-zEFMNV0ux2",
      "execution_count": 21,
      "outputs": [
        {
          "output_type": "stream",
          "name": "stdout",
          "text": [
            "---\n",
            "Gro\n",
            "Gro: -0.000147522\n",
            "G: -8.902802\n",
            "Gr: -12.41256\n",
            "---\n",
            "ße\n",
            "ße: -2.8160932e-06\n",
            "ßen: -13.251496\n",
            "ß: -14.218225\n",
            "---\n",
            " Spr\n",
            " Spr: -1.378283e-05\n",
            " spr: -11.222059\n",
            "Spr: -16.02802\n",
            "---\n",
            "ach\n",
            "ach: -4.3202e-07\n",
            "ache: -14.729198\n",
            "achen: -19.030474\n",
            "---\n",
            "model\n",
            "model: -1.504853e-06\n",
            " model: -13.970814\n",
            "models: -15.751904\n",
            "---\n",
            "le\n",
            "le: -1.0280384e-06\n",
            "l: -14.566075\n",
            "les: -15.490836\n",
            "---\n",
            " sind\n",
            " sind: -0.026018215\n",
            " wie: -3.7790546\n",
            ",: -6.721874\n",
            "---\n",
            " m\n",
            " so: -0.69707656\n",
            " m: -0.77888656\n",
            " le: -3.1668565\n",
            "---\n",
            "ä\n",
            "ä: 0.0\n",
            "äch: -17.745888\n",
            "ächst: -21.739174\n",
            "---\n",
            "cht\n",
            "cht: 0.0\n",
            "c: -17.73132\n",
            "<|end|>: -20.913124\n",
            "---\n",
            "ig\n",
            "ig: -3.888926e-06\n",
            "iger: -12.969837\n",
            "ige: -13.429577\n",
            "---\n",
            ",\n",
            ",: -0.0013040454\n",
            " auf: -6.6733203\n",
            " wegen: -10.358924\n",
            "---\n",
            " weil\n",
            " weil: -0.075650655\n",
            " da: -2.619306\n",
            " denn: -12.394736\n",
            "---\n",
            " sie\n",
            " sie: -1.5928495e-05\n",
            " ihre: -11.163407\n",
            " ihr: -14.264136\n",
            "---\n",
            " auf\n",
            " über: -1.1559274\n",
            " eine: -1.434427\n",
            " auf: -1.9211214\n",
            "---\n",
            " ries\n",
            " ries: -0.16101383\n",
            " um: -2.9656231\n",
            " einer: -3.4782765\n",
            "---\n",
            "igen\n",
            "igen: -0.0072556697\n",
            "ige: -4.93042\n",
            "iger: -12.057503\n",
            "---\n",
            " Dat\n",
            " Dat: -0.5434796\n",
            " Meng: -1.5978162\n",
            " Daten: -1.6302602\n",
            "---\n",
            "ens\n",
            "ens: -7.3458323e-06\n",
            "env: -11.867439\n",
            "ensa: -16.457167\n",
            "---\n",
            "ät\n",
            "ät: -0.00019686499\n",
            "ätze: -8.991472\n",
            "ets: -9.628252\n",
            "---\n",
            "zen\n",
            "zen: 0.0\n",
            "-: -17.943707\n",
            "ze: -18.522062\n",
            "---\n",
            " train\n",
            " train: -0.00023941702\n",
            " v: -9.063127\n",
            " und: -10.200822\n",
            "---\n",
            "iert\n",
            "iert: -1.8789384e-05\n",
            "ieren: -10.897362\n",
            "ierte: -15.134117\n",
            "---\n",
            " werden\n",
            " werden: -0.03838433\n",
            " sind: -3.5582438\n",
            " wurden: -4.7194624\n",
            "---\n",
            " können\n",
            " können: -0.73582107\n",
            " und: -0.89432937\n",
            ",: -2.1897204\n",
            "---\n",
            " und\n",
            ",: -0.20742771\n",
            " und: -1.6761777\n",
            ".: -8.341318\n",
            "---\n",
            " dad\n",
            " dad: -0.448776\n",
            " komple: -2.0311658\n",
            " som: -2.4637468\n",
            "---\n",
            "urch\n",
            "urch: 0.0\n",
            "uch: -20.502144\n",
            "u: -23.547709\n",
            "---\n",
            " ein\n",
            " komple: -0.6326199\n",
            " ein: -0.7915974\n",
            " eine: -4.434887\n",
            "---\n",
            " t\n",
            " t: -0.54529727\n",
            " tie: -1.6304756\n",
            " bre: -1.9354416\n",
            "---\n",
            "ief\n",
            "ief: 0.0\n",
            "ie: -17.678078\n",
            "iefs: -19.127932\n",
            "---\n",
            "es\n",
            "es: -0.045931675\n",
            "geh: -3.3611438\n",
            "gre: -4.6172476\n",
            "---\n",
            " Ver\n",
            " Ver: -0.002680533\n",
            " und: -6.8087525\n",
            " Spr: -7.355784\n",
            "---\n",
            "ständ\n",
            "ständ: -4.3202e-07\n",
            "st: -14.857492\n",
            "stå: -18.702486\n",
            "---\n",
            "nis\n",
            "nis: -1.3856493e-06\n",
            "is: -14.127425\n",
            "n: -14.420491\n",
            "---\n",
            " von\n",
            " von: -0.23427697\n",
            " für: -2.0755856\n",
            " der: -3.1673863\n",
            "---\n",
            " Spr\n",
            " Spr: -0.2650295\n",
            " nat: -1.4725871\n",
            " mens: -6.5064845\n",
            "---\n",
            "ache\n",
            "ache: -0.00043770226\n",
            "ach: -7.77262\n",
            "achen: -11.1301565\n",
            "---\n",
            " entwick\n",
            " entwick: -0.070727326\n",
            " er: -3.423112\n",
            " und: -3.4354143\n",
            "---\n",
            "eln\n",
            "eln: -5.6769813e-06\n",
            "elt: -12.148144\n",
            "len: -15.216703\n",
            "---\n",
            " können\n",
            " können: -0.21849644\n",
            ".: -1.796755\n",
            ",: -3.4967518\n",
            "---\n",
            ".\n",
            ".: -0.015057043\n",
            ",: -4.2046323\n",
            " sowie: -11.437559\n",
            "---\n",
            " Sie\n",
            " Sie: -0.5770447\n",
            " Dies: -1.6683152\n",
            " Dad: -2.1201966\n",
            "---\n",
            " können\n",
            " können: -0.35921487\n",
            " sind: -1.2235147\n",
            " haben: -6.006542\n",
            "---\n",
            " komple\n",
            " komple: -0.005552236\n",
            " nu: -6.929821\n",
            " vi: -7.2112713\n",
            "---\n",
            "xe\n",
            "xe: 0.0\n",
            "xx: -25.422825\n",
            "ze: -25.503344\n",
            "---\n",
            " M\n",
            " M: -0.39925343\n",
            " Zusammen: -1.8679614\n",
            " Spr: -2.2499042\n",
            "---\n",
            "uster\n",
            "uster: -4.604148e-06\n",
            "usters: -12.318158\n",
            "u: -18.43217\n",
            "---\n",
            " und\n",
            " und: -0.79556173\n",
            " in: -1.0820761\n",
            " erk: -1.663516\n",
            "---\n",
            " Be\n",
            " Zusammen: -0.2763856\n",
            " Be: -2.1394188\n",
            " Ab: -2.1658318\n",
            "---\n",
            "zie\n",
            "zie: -1.1517961e-05\n",
            "ziehung: -11.376656\n",
            "zeich: -18.09017\n",
            "---\n",
            "h\n",
            "h: 0.0\n",
            "hh: -19.351894\n",
            "hn: -19.459541\n",
            "---\n",
            "ungen\n",
            "ungen: -4.3202e-07\n",
            "unge: -15.468479\n",
            "ungs: -16.336412\n",
            "---\n",
            " in\n",
            " in: -0.033621263\n",
            " zwischen: -4.0640435\n",
            " erk: -5.1472497\n",
            "---\n",
            " Daten\n",
            " Text: -0.04484096\n",
            " Spr: -4.4506063\n",
            " Daten: -4.5121107\n",
            "---\n",
            " erk\n",
            " erk: -0.07631334\n",
            " erf: -2.8604014\n",
            " l: -4.9534917\n",
            "---\n",
            "ennen\n",
            "ennen: -4.365741e-06\n",
            "enn: -12.46293\n",
            "unden: -14.96214\n",
            "---\n",
            " und\n",
            " und: -0.019444665\n",
            ",: -3.9635594\n",
            " sowie: -8.31125\n",
            "---\n",
            " som\n",
            " dad: -0.73688287\n",
            " som: -2.1777666\n",
            " nat: -2.2990663\n",
            "---\n",
            "it\n",
            "it: 0.0\n",
            "i: -18.619709\n",
            "ite: -18.625397\n",
            "---\n",
            " pr\n",
            " pr: -0.5546457\n",
            " bee: -2.3536303\n",
            " vi: -2.7086718\n",
            "---\n",
            "ä\n",
            "ä: -2.486877e-05\n",
            "äd: -10.605356\n",
            "äsent: -19.300047\n",
            "---\n",
            "z\n",
            "z: -1.2664457e-06\n",
            "gn: -14.206674\n",
            "sk: -14.553929\n",
            "---\n",
            "ise\n",
            "ise: -0.060133323\n",
            "is: -2.841307\n",
            "iser: -11.644123\n",
            "---\n",
            " Vor\n",
            " Vor: -0.26420835\n",
            " und: -1.5522714\n",
            " Ergebn: -4.8040853\n",
            "---\n",
            "h\n",
            "h: -3.1281633e-07\n",
            "stell: -15.653532\n",
            "ra: -16.728697\n",
            "---\n",
            "ers\n",
            "ers: 0.0\n",
            "errs: -25.288013\n",
            "<|end|>: -25.851992\n",
            "---\n",
            "agen\n",
            "agen: -4.3202e-07\n",
            "age: -15.03367\n",
            "ag: -16.42029\n",
            "---\n",
            " und\n",
            " und: -0.18080775\n",
            " treffen: -1.9076525\n",
            " oder: -4.179732\n",
            "---\n",
            " Anal\n",
            " Anal: -0.25148124\n",
            " Gener: -2.599048\n",
            " gener: -2.6231549\n",
            "---\n",
            "ys\n",
            "ys: 0.0\n",
            "yses: -23.80962\n",
            "ays: -23.926727\n",
            "---\n",
            "en\n",
            "en: 0.0\n",
            "ed: -23.447134\n",
            "ener: -24.40623\n",
            "---\n",
            " durch\n",
            " durch: -0.3373412\n",
            " lie: -1.3372535\n",
            " ermög: -4.3258705\n",
            "---\n",
            "füh\n",
            "füh: -1.2664457e-06\n",
            "z: -14.041335\n",
            "üh: -15.726655\n",
            "---\n",
            "ren\n",
            "ren: -1.9361265e-07\n",
            "re: -15.879282\n",
            "len: -18.121868\n",
            "---\n",
            ".\n",
            ".: -4.1199673e-05\n",
            ".\n",
            "\n",
            ": -10.415595\n",
            ".\n",
            ": -11.450036\n"
          ]
        }
      ]
    }
  ],
  "metadata": {
    "colab": {
      "provenance": [],
      "toc_visible": true,
      "include_colab_link": true
    },
    "kernelspec": {
      "display_name": "Python 3",
      "language": "python",
      "name": "python3"
    },
    "language_info": {
      "codemirror_mode": {
        "name": "ipython",
        "version": 3
      },
      "file_extension": ".py",
      "mimetype": "text/x-python",
      "name": "python",
      "nbconvert_exporter": "python",
      "pygments_lexer": "ipython3",
      "version": "3.9.18"
    }
  },
  "nbformat": 4,
  "nbformat_minor": 5
}
